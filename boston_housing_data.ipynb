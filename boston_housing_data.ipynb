{
 "cells": [
  {
   "cell_type": "code",
   "execution_count": 132,
   "id": "2b6bebdc",
   "metadata": {},
   "outputs": [],
   "source": [
    "import pandas as pd\n",
    "import numpy as np\n",
    "import matplotlib.pyplot as plt\n",
    "%matplotlib inline"
   ]
  },
  {
   "cell_type": "markdown",
   "id": "de314196",
   "metadata": {},
   "source": [
    "## Loading the data\n"
   ]
  },
  {
   "cell_type": "code",
   "execution_count": 133,
   "id": "5b63cd79",
   "metadata": {},
   "outputs": [],
   "source": [
    "dataset = pd.read_csv('housing.csv')"
   ]
  },
  {
   "cell_type": "code",
   "execution_count": 134,
   "id": "9c9c8da2",
   "metadata": {},
   "outputs": [
    {
     "data": {
      "text/html": [
       "<div>\n",
       "<style scoped>\n",
       "    .dataframe tbody tr th:only-of-type {\n",
       "        vertical-align: middle;\n",
       "    }\n",
       "\n",
       "    .dataframe tbody tr th {\n",
       "        vertical-align: top;\n",
       "    }\n",
       "\n",
       "    .dataframe thead th {\n",
       "        text-align: right;\n",
       "    }\n",
       "</style>\n",
       "<table border=\"1\" class=\"dataframe\">\n",
       "  <thead>\n",
       "    <tr style=\"text-align: right;\">\n",
       "      <th></th>\n",
       "      <th>CRIM</th>\n",
       "      <th>ZN</th>\n",
       "      <th>INDUS</th>\n",
       "      <th>CHAS</th>\n",
       "      <th>NOX</th>\n",
       "      <th>RM</th>\n",
       "      <th>AGE</th>\n",
       "      <th>DIS</th>\n",
       "      <th>RAD</th>\n",
       "      <th>TAX</th>\n",
       "      <th>PTRATIO</th>\n",
       "      <th>B</th>\n",
       "      <th>LSTAT</th>\n",
       "      <th>PRICE</th>\n",
       "    </tr>\n",
       "  </thead>\n",
       "  <tbody>\n",
       "    <tr>\n",
       "      <th>0</th>\n",
       "      <td>0.00632</td>\n",
       "      <td>18.0</td>\n",
       "      <td>2.31</td>\n",
       "      <td>0.0</td>\n",
       "      <td>0.538</td>\n",
       "      <td>6.575</td>\n",
       "      <td>65.2</td>\n",
       "      <td>4.0900</td>\n",
       "      <td>1</td>\n",
       "      <td>296.0</td>\n",
       "      <td>15.3</td>\n",
       "      <td>396.90</td>\n",
       "      <td>4.98</td>\n",
       "      <td>24.0</td>\n",
       "    </tr>\n",
       "    <tr>\n",
       "      <th>1</th>\n",
       "      <td>0.02731</td>\n",
       "      <td>0.0</td>\n",
       "      <td>7.07</td>\n",
       "      <td>0.0</td>\n",
       "      <td>0.469</td>\n",
       "      <td>6.421</td>\n",
       "      <td>78.9</td>\n",
       "      <td>4.9671</td>\n",
       "      <td>2</td>\n",
       "      <td>242.0</td>\n",
       "      <td>17.8</td>\n",
       "      <td>396.90</td>\n",
       "      <td>9.14</td>\n",
       "      <td>21.6</td>\n",
       "    </tr>\n",
       "    <tr>\n",
       "      <th>2</th>\n",
       "      <td>0.02729</td>\n",
       "      <td>0.0</td>\n",
       "      <td>7.07</td>\n",
       "      <td>0.0</td>\n",
       "      <td>0.469</td>\n",
       "      <td>7.185</td>\n",
       "      <td>61.1</td>\n",
       "      <td>4.9671</td>\n",
       "      <td>2</td>\n",
       "      <td>242.0</td>\n",
       "      <td>17.8</td>\n",
       "      <td>392.83</td>\n",
       "      <td>4.03</td>\n",
       "      <td>34.7</td>\n",
       "    </tr>\n",
       "    <tr>\n",
       "      <th>3</th>\n",
       "      <td>0.03237</td>\n",
       "      <td>0.0</td>\n",
       "      <td>2.18</td>\n",
       "      <td>0.0</td>\n",
       "      <td>0.458</td>\n",
       "      <td>6.998</td>\n",
       "      <td>45.8</td>\n",
       "      <td>6.0622</td>\n",
       "      <td>3</td>\n",
       "      <td>222.0</td>\n",
       "      <td>18.7</td>\n",
       "      <td>394.63</td>\n",
       "      <td>2.94</td>\n",
       "      <td>33.4</td>\n",
       "    </tr>\n",
       "    <tr>\n",
       "      <th>4</th>\n",
       "      <td>0.06905</td>\n",
       "      <td>0.0</td>\n",
       "      <td>2.18</td>\n",
       "      <td>0.0</td>\n",
       "      <td>0.458</td>\n",
       "      <td>7.147</td>\n",
       "      <td>54.2</td>\n",
       "      <td>6.0622</td>\n",
       "      <td>3</td>\n",
       "      <td>222.0</td>\n",
       "      <td>18.7</td>\n",
       "      <td>396.90</td>\n",
       "      <td>5.33</td>\n",
       "      <td>36.2</td>\n",
       "    </tr>\n",
       "  </tbody>\n",
       "</table>\n",
       "</div>"
      ],
      "text/plain": [
       "      CRIM    ZN  INDUS  CHAS    NOX     RM   AGE     DIS  RAD    TAX  \\\n",
       "0  0.00632  18.0   2.31   0.0  0.538  6.575  65.2  4.0900    1  296.0   \n",
       "1  0.02731   0.0   7.07   0.0  0.469  6.421  78.9  4.9671    2  242.0   \n",
       "2  0.02729   0.0   7.07   0.0  0.469  7.185  61.1  4.9671    2  242.0   \n",
       "3  0.03237   0.0   2.18   0.0  0.458  6.998  45.8  6.0622    3  222.0   \n",
       "4  0.06905   0.0   2.18   0.0  0.458  7.147  54.2  6.0622    3  222.0   \n",
       "\n",
       "   PTRATIO       B  LSTAT  PRICE  \n",
       "0     15.3  396.90   4.98   24.0  \n",
       "1     17.8  396.90   9.14   21.6  \n",
       "2     17.8  392.83   4.03   34.7  \n",
       "3     18.7  394.63   2.94   33.4  \n",
       "4     18.7  396.90   5.33   36.2  "
      ]
     },
     "execution_count": 134,
     "metadata": {},
     "output_type": "execute_result"
    }
   ],
   "source": [
    "dataset.head()"
   ]
  },
  {
   "cell_type": "markdown",
   "id": "fb7387eb",
   "metadata": {},
   "source": [
    "## summarizing the stats of the data\n"
   ]
  },
  {
   "cell_type": "code",
   "execution_count": 135,
   "id": "d322f431",
   "metadata": {},
   "outputs": [
    {
     "name": "stdout",
     "output_type": "stream",
     "text": [
      "<class 'pandas.core.frame.DataFrame'>\n",
      "RangeIndex: 506 entries, 0 to 505\n",
      "Data columns (total 14 columns):\n",
      " #   Column   Non-Null Count  Dtype  \n",
      "---  ------   --------------  -----  \n",
      " 0   CRIM     506 non-null    float64\n",
      " 1   ZN       506 non-null    float64\n",
      " 2   INDUS    506 non-null    float64\n",
      " 3   CHAS     506 non-null    float64\n",
      " 4   NOX      506 non-null    float64\n",
      " 5   RM       506 non-null    float64\n",
      " 6   AGE      506 non-null    float64\n",
      " 7   DIS      506 non-null    float64\n",
      " 8   RAD      506 non-null    int64  \n",
      " 9   TAX      506 non-null    float64\n",
      " 10  PTRATIO  506 non-null    float64\n",
      " 11  B        506 non-null    float64\n",
      " 12  LSTAT    506 non-null    float64\n",
      " 13  PRICE    452 non-null    float64\n",
      "dtypes: float64(13), int64(1)\n",
      "memory usage: 55.5 KB\n"
     ]
    }
   ],
   "source": [
    "dataset.info()"
   ]
  },
  {
   "cell_type": "code",
   "execution_count": 136,
   "id": "e7672966",
   "metadata": {
    "scrolled": true
   },
   "outputs": [
    {
     "data": {
      "text/html": [
       "<div>\n",
       "<style scoped>\n",
       "    .dataframe tbody tr th:only-of-type {\n",
       "        vertical-align: middle;\n",
       "    }\n",
       "\n",
       "    .dataframe tbody tr th {\n",
       "        vertical-align: top;\n",
       "    }\n",
       "\n",
       "    .dataframe thead th {\n",
       "        text-align: right;\n",
       "    }\n",
       "</style>\n",
       "<table border=\"1\" class=\"dataframe\">\n",
       "  <thead>\n",
       "    <tr style=\"text-align: right;\">\n",
       "      <th></th>\n",
       "      <th>CRIM</th>\n",
       "      <th>ZN</th>\n",
       "      <th>INDUS</th>\n",
       "      <th>CHAS</th>\n",
       "      <th>NOX</th>\n",
       "      <th>RM</th>\n",
       "      <th>AGE</th>\n",
       "      <th>DIS</th>\n",
       "      <th>RAD</th>\n",
       "      <th>TAX</th>\n",
       "      <th>PTRATIO</th>\n",
       "      <th>B</th>\n",
       "      <th>LSTAT</th>\n",
       "      <th>PRICE</th>\n",
       "    </tr>\n",
       "  </thead>\n",
       "  <tbody>\n",
       "    <tr>\n",
       "      <th>count</th>\n",
       "      <td>506.000000</td>\n",
       "      <td>506.000000</td>\n",
       "      <td>506.000000</td>\n",
       "      <td>506.000000</td>\n",
       "      <td>506.000000</td>\n",
       "      <td>506.000000</td>\n",
       "      <td>506.000000</td>\n",
       "      <td>506.000000</td>\n",
       "      <td>506.000000</td>\n",
       "      <td>506.000000</td>\n",
       "      <td>506.000000</td>\n",
       "      <td>506.000000</td>\n",
       "      <td>506.000000</td>\n",
       "      <td>452.000000</td>\n",
       "    </tr>\n",
       "    <tr>\n",
       "      <th>mean</th>\n",
       "      <td>1.269195</td>\n",
       "      <td>13.295257</td>\n",
       "      <td>9.205158</td>\n",
       "      <td>0.140765</td>\n",
       "      <td>1.101175</td>\n",
       "      <td>15.679800</td>\n",
       "      <td>58.744660</td>\n",
       "      <td>6.173308</td>\n",
       "      <td>78.063241</td>\n",
       "      <td>339.317787</td>\n",
       "      <td>42.614980</td>\n",
       "      <td>332.791107</td>\n",
       "      <td>11.537806</td>\n",
       "      <td>23.750442</td>\n",
       "    </tr>\n",
       "    <tr>\n",
       "      <th>std</th>\n",
       "      <td>2.399207</td>\n",
       "      <td>23.048697</td>\n",
       "      <td>7.169630</td>\n",
       "      <td>0.312765</td>\n",
       "      <td>1.646991</td>\n",
       "      <td>27.220206</td>\n",
       "      <td>33.104049</td>\n",
       "      <td>6.476435</td>\n",
       "      <td>203.542157</td>\n",
       "      <td>180.670077</td>\n",
       "      <td>87.585243</td>\n",
       "      <td>125.322456</td>\n",
       "      <td>6.064932</td>\n",
       "      <td>8.808602</td>\n",
       "    </tr>\n",
       "    <tr>\n",
       "      <th>min</th>\n",
       "      <td>0.000000</td>\n",
       "      <td>0.000000</td>\n",
       "      <td>0.000000</td>\n",
       "      <td>0.000000</td>\n",
       "      <td>0.385000</td>\n",
       "      <td>3.561000</td>\n",
       "      <td>1.137000</td>\n",
       "      <td>1.129600</td>\n",
       "      <td>1.000000</td>\n",
       "      <td>20.200000</td>\n",
       "      <td>2.600000</td>\n",
       "      <td>0.320000</td>\n",
       "      <td>1.730000</td>\n",
       "      <td>6.300000</td>\n",
       "    </tr>\n",
       "    <tr>\n",
       "      <th>25%</th>\n",
       "      <td>0.049443</td>\n",
       "      <td>0.000000</td>\n",
       "      <td>3.440000</td>\n",
       "      <td>0.000000</td>\n",
       "      <td>0.449000</td>\n",
       "      <td>5.961500</td>\n",
       "      <td>32.000000</td>\n",
       "      <td>2.430575</td>\n",
       "      <td>4.000000</td>\n",
       "      <td>254.000000</td>\n",
       "      <td>17.000000</td>\n",
       "      <td>364.995000</td>\n",
       "      <td>6.877500</td>\n",
       "      <td>18.500000</td>\n",
       "    </tr>\n",
       "    <tr>\n",
       "      <th>50%</th>\n",
       "      <td>0.144655</td>\n",
       "      <td>0.000000</td>\n",
       "      <td>6.960000</td>\n",
       "      <td>0.000000</td>\n",
       "      <td>0.538000</td>\n",
       "      <td>6.322500</td>\n",
       "      <td>65.250000</td>\n",
       "      <td>3.925850</td>\n",
       "      <td>5.000000</td>\n",
       "      <td>307.000000</td>\n",
       "      <td>18.900000</td>\n",
       "      <td>390.660000</td>\n",
       "      <td>10.380000</td>\n",
       "      <td>21.950000</td>\n",
       "    </tr>\n",
       "    <tr>\n",
       "      <th>75%</th>\n",
       "      <td>0.819623</td>\n",
       "      <td>18.100000</td>\n",
       "      <td>18.100000</td>\n",
       "      <td>0.000000</td>\n",
       "      <td>0.647000</td>\n",
       "      <td>6.949000</td>\n",
       "      <td>89.975000</td>\n",
       "      <td>6.332075</td>\n",
       "      <td>24.000000</td>\n",
       "      <td>403.000000</td>\n",
       "      <td>20.200000</td>\n",
       "      <td>395.615000</td>\n",
       "      <td>15.015000</td>\n",
       "      <td>26.600000</td>\n",
       "    </tr>\n",
       "    <tr>\n",
       "      <th>max</th>\n",
       "      <td>9.966540</td>\n",
       "      <td>100.000000</td>\n",
       "      <td>27.740000</td>\n",
       "      <td>1.000000</td>\n",
       "      <td>7.313000</td>\n",
       "      <td>100.000000</td>\n",
       "      <td>100.000000</td>\n",
       "      <td>24.000000</td>\n",
       "      <td>666.000000</td>\n",
       "      <td>711.000000</td>\n",
       "      <td>396.900000</td>\n",
       "      <td>396.900000</td>\n",
       "      <td>34.410000</td>\n",
       "      <td>50.000000</td>\n",
       "    </tr>\n",
       "  </tbody>\n",
       "</table>\n",
       "</div>"
      ],
      "text/plain": [
       "             CRIM          ZN       INDUS        CHAS         NOX          RM  \\\n",
       "count  506.000000  506.000000  506.000000  506.000000  506.000000  506.000000   \n",
       "mean     1.269195   13.295257    9.205158    0.140765    1.101175   15.679800   \n",
       "std      2.399207   23.048697    7.169630    0.312765    1.646991   27.220206   \n",
       "min      0.000000    0.000000    0.000000    0.000000    0.385000    3.561000   \n",
       "25%      0.049443    0.000000    3.440000    0.000000    0.449000    5.961500   \n",
       "50%      0.144655    0.000000    6.960000    0.000000    0.538000    6.322500   \n",
       "75%      0.819623   18.100000   18.100000    0.000000    0.647000    6.949000   \n",
       "max      9.966540  100.000000   27.740000    1.000000    7.313000  100.000000   \n",
       "\n",
       "              AGE         DIS         RAD         TAX     PTRATIO           B  \\\n",
       "count  506.000000  506.000000  506.000000  506.000000  506.000000  506.000000   \n",
       "mean    58.744660    6.173308   78.063241  339.317787   42.614980  332.791107   \n",
       "std     33.104049    6.476435  203.542157  180.670077   87.585243  125.322456   \n",
       "min      1.137000    1.129600    1.000000   20.200000    2.600000    0.320000   \n",
       "25%     32.000000    2.430575    4.000000  254.000000   17.000000  364.995000   \n",
       "50%     65.250000    3.925850    5.000000  307.000000   18.900000  390.660000   \n",
       "75%     89.975000    6.332075   24.000000  403.000000   20.200000  395.615000   \n",
       "max    100.000000   24.000000  666.000000  711.000000  396.900000  396.900000   \n",
       "\n",
       "            LSTAT       PRICE  \n",
       "count  506.000000  452.000000  \n",
       "mean    11.537806   23.750442  \n",
       "std      6.064932    8.808602  \n",
       "min      1.730000    6.300000  \n",
       "25%      6.877500   18.500000  \n",
       "50%     10.380000   21.950000  \n",
       "75%     15.015000   26.600000  \n",
       "max     34.410000   50.000000  "
      ]
     },
     "execution_count": 136,
     "metadata": {},
     "output_type": "execute_result"
    }
   ],
   "source": [
    "dataset.describe()"
   ]
  },
  {
   "cell_type": "markdown",
   "id": "4c90e65e",
   "metadata": {},
   "source": [
    "# EDA"
   ]
  },
  {
   "cell_type": "markdown",
   "id": "ff0a677d",
   "metadata": {},
   "source": [
    "## checking for missing values\n"
   ]
  },
  {
   "cell_type": "code",
   "execution_count": 137,
   "id": "e0781e42",
   "metadata": {
    "scrolled": true
   },
   "outputs": [
    {
     "data": {
      "text/plain": [
       "CRIM        0\n",
       "ZN          0\n",
       "INDUS       0\n",
       "CHAS        0\n",
       "NOX         0\n",
       "RM          0\n",
       "AGE         0\n",
       "DIS         0\n",
       "RAD         0\n",
       "TAX         0\n",
       "PTRATIO     0\n",
       "B           0\n",
       "LSTAT       0\n",
       "PRICE      54\n",
       "dtype: int64"
      ]
     },
     "execution_count": 137,
     "metadata": {},
     "output_type": "execute_result"
    }
   ],
   "source": [
    "dataset.isnull().sum()"
   ]
  },
  {
   "cell_type": "code",
   "execution_count": 138,
   "id": "47500be3",
   "metadata": {},
   "outputs": [
    {
     "data": {
      "text/plain": [
       "21.95"
      ]
     },
     "execution_count": 138,
     "metadata": {},
     "output_type": "execute_result"
    }
   ],
   "source": [
    "dataset['PRICE'].median()"
   ]
  },
  {
   "cell_type": "code",
   "execution_count": 139,
   "id": "961a3e7b",
   "metadata": {},
   "outputs": [
    {
     "data": {
      "text/plain": [
       "CRIM       0\n",
       "ZN         0\n",
       "INDUS      0\n",
       "CHAS       0\n",
       "NOX        0\n",
       "RM         0\n",
       "AGE        0\n",
       "DIS        0\n",
       "RAD        0\n",
       "TAX        0\n",
       "PTRATIO    0\n",
       "B          0\n",
       "LSTAT      0\n",
       "PRICE      0\n",
       "dtype: int64"
      ]
     },
     "execution_count": 139,
     "metadata": {},
     "output_type": "execute_result"
    }
   ],
   "source": [
    "dataset=dataset.fillna(dataset['PRICE'].median())\n",
    "dataset.isnull().sum()"
   ]
  },
  {
   "cell_type": "markdown",
   "id": "92e6c5d2",
   "metadata": {},
   "source": [
    "## checking for outliers"
   ]
  },
  {
   "cell_type": "code",
   "execution_count": 141,
   "id": "7bc63f7d",
   "metadata": {},
   "outputs": [
    {
     "data": {
      "image/png": "[encoded data removed]",
      "text/plain": [
       "<Figure size 640x480 with 1 Axes>"
      ]
     },
     "metadata": {},
     "output_type": "display_data"
    },
    {
     "data": {
      "image/png": "[encoded data removed]",
      "text/plain": [
       "<Figure size 640x480 with 1 Axes>"
      ]
     },
     "metadata": {},
     "output_type": "display_data"
    },
    {
     "data": {
      "image/png": "[encoded data removed]",
      "text/plain": [
       "<Figure size 640x480 with 1 Axes>"
      ]
     },
     "metadata": {},
     "output_type": "display_data"
    },
    {
     "data": {
      "image/png": "[encoded data removed]",
      "text/plain": [
       "<Figure size 640x480 with 1 Axes>"
      ]
     },
     "metadata": {},
     "output_type": "display_data"
    },
    {
     "data": {
      "image/png": "[encoded data removed]",
      "text/plain": [
       "<Figure size 640x480 with 1 Axes>"
      ]
     },
     "metadata": {},
     "output_type": "display_data"
    },
    {
     "data": {
      "image/png": "[encoded data removed]",
      "text/plain": [
       "<Figure size 640x480 with 1 Axes>"
      ]
     },
     "metadata": {},
     "output_type": "display_data"
    },
    {
     "data": {
      "image/png": "[encoded data removed]",
      "text/plain": [
       "<Figure size 640x480 with 1 Axes>"
      ]
     },
     "metadata": {},
     "output_type": "display_data"
    },
    {
     "data": {
      "image/png": "[encoded data removed]",
      "text/plain": [
       "<Figure size 640x480 with 1 Axes>"
      ]
     },
     "metadata": {},
     "output_type": "display_data"
    },
    {
     "data": {
      "image/png": "[encoded data removed]",
      "text/plain": [
       "<Figure size 640x480 with 1 Axes>"
      ]
     },
     "metadata": {},
     "output_type": "display_data"
    },
    {
     "data": {
      "image/png": "[encoded data removed]",
      "text/plain": [
       "<Figure size 640x480 with 1 Axes>"
      ]
     },
     "metadata": {},
     "output_type": "display_data"
    },
    {
     "data": {
      "image/png": "[encoded data removed]",
      "text/plain": [
       "<Figure size 640x480 with 1 Axes>"
      ]
     },
     "metadata": {},
     "output_type": "display_data"
    },
    {
     "data": {
      "image/png": "[encoded data removed]",
      "text/plain": [
       "<Figure size 640x480 with 1 Axes>"
      ]
     },
     "metadata": {},
     "output_type": "display_data"
    },
    {
     "data": {
      "image/png": "[encoded data removed]",
      "text/plain": [
       "<Figure size 640x480 with 1 Axes>"
      ]
     },
     "metadata": {},
     "output_type": "display_data"
    },
    {
     "data": {
      "image/png": "[encoded data removed]",
      "text/plain": [
       "<Figure size 640x480 with 1 Axes>"
      ]
     },
     "metadata": {},
     "output_type": "display_data"
    }
   ],
   "source": [
    "plt.title('Multiple Boxplots')\n",
    "for col in dataset.columns:\n",
    "    plt.boxplot(dataset[col],col)  \n",
    "    plt.xlabel(col)\n",
    "    plt.ylabel('Value')\n",
    "    plt.grid(axis='y')\n",
    "    plt.show()\n"
   ]
  },
  {
   "cell_type": "code",
   "execution_count": 142,
   "id": "2dbd3c5b",
   "metadata": {},
   "outputs": [],
   "source": [
    "#function to calculate IQR\n",
    "def cal_IQR_Upper_lower_bound(feature,multiplier):\n",
    "    IQR= dataset[feature].quantile(0.75)-dataset[feature].quantile(0.25)\n",
    "    print(\"IQR: \",IQR)\n",
    "    lower_bound=dataset[feature].quantile(0.25)-(IQR*multiplier)\n",
    "    upper_bound=dataset[feature].quantile(0.75)+(IQR*multiplier)\n",
    "    print(\"lower bound: \",lower_bound)\n",
    "    print(\"upper bound: \",upper_bound)\n",
    "    return lower_bound,upper_bound\n",
    "    \n",
    "    "
   ]
  },
  {
   "cell_type": "markdown",
   "id": "6fa48716",
   "metadata": {},
   "source": [
    "## Handling missing values"
   ]
  },
  {
   "cell_type": "code",
   "execution_count": 143,
   "id": "52b3c5e4",
   "metadata": {},
   "outputs": [
    {
     "data": {
      "text/plain": [
       "<seaborn.axisgrid.FacetGrid at 0x213a271ac40>"
      ]
     },
     "execution_count": 143,
     "metadata": {},
     "output_type": "execute_result"
    },
    {
     "data": {
      "image/png": "[encoded data removed]",
      "text/plain": [
       "<Figure size 500x500 with 1 Axes>"
      ]
     },
     "metadata": {},
     "output_type": "display_data"
    }
   ],
   "source": [
    "sns.set_style('whitegrid')\n",
    "sns.displot(dataset['CRIM'], kde = False, color ='red', bins = 30)\n"
   ]
  },
  {
   "cell_type": "code",
   "execution_count": 144,
   "id": "d22aca23",
   "metadata": {},
   "outputs": [
    {
     "name": "stdout",
     "output_type": "stream",
     "text": [
      "IQR:  0.7701800000000001\n",
      "lower bound:  -2.2610975000000004\n",
      "upper bound:  3.1301625000000004\n"
     ]
    }
   ],
   "source": [
    "#calculating IQR, upper bound and lower bound for crime rate column\n",
    "lower_bound, upper_bound=cal_IQR_Upper_lower_bound('CRIM',3)"
   ]
  },
  {
   "cell_type": "code",
   "execution_count": 145,
   "id": "9db5f919",
   "metadata": {},
   "outputs": [],
   "source": [
    "dataset.loc[dataset['CRIM']> upper_bound,'CRIM']=upper_bound"
   ]
  },
  {
   "cell_type": "code",
   "execution_count": 146,
   "id": "a6e6ee02",
   "metadata": {},
   "outputs": [
    {
     "data": {
      "text/plain": [
       "count    506.000000\n",
       "mean       0.762338\n",
       "std        1.138541\n",
       "min        0.000000\n",
       "25%        0.049443\n",
       "50%        0.144655\n",
       "75%        0.819623\n",
       "max        3.130163\n",
       "Name: CRIM, dtype: float64"
      ]
     },
     "execution_count": 146,
     "metadata": {},
     "output_type": "execute_result"
    }
   ],
   "source": [
    "dataset['CRIM'].describe()"
   ]
  },
  {
   "cell_type": "code",
   "execution_count": 147,
   "id": "9acc8fe6",
   "metadata": {},
   "outputs": [
    {
     "data": {
      "text/plain": [
       "<seaborn.axisgrid.FacetGrid at 0x21397150970>"
      ]
     },
     "execution_count": 147,
     "metadata": {},
     "output_type": "execute_result"
    },
    {
     "data": {
      "image/png": "[encoded data removed]",
      "text/plain": [
       "<Figure size 500x500 with 1 Axes>"
      ]
     },
     "metadata": {},
     "output_type": "display_data"
    }
   ],
   "source": [
    "sns.set_style('whitegrid')\n",
    "sns.displot(dataset['ZN'], kde = False, color ='red', bins = 30)"
   ]
  },
  {
   "cell_type": "code",
   "execution_count": 148,
   "id": "5e5e11e9",
   "metadata": {},
   "outputs": [
    {
     "name": "stdout",
     "output_type": "stream",
     "text": [
      "IQR:  18.1\n",
      "lower bound:  -27.150000000000002\n",
      "upper bound:  45.25\n"
     ]
    }
   ],
   "source": [
    "lower_bound,upper_bound=cal_IQR_Upper_lower_bound(\"ZN\",1.5)\n"
   ]
  },
  {
   "cell_type": "code",
   "execution_count": 149,
   "id": "b5cbfb5d",
   "metadata": {},
   "outputs": [],
   "source": [
    "dataset.loc[dataset['ZN']> upper_bound,'ZN']=upper_bound"
   ]
  },
  {
   "cell_type": "code",
   "execution_count": 151,
   "id": "f7ea2d85",
   "metadata": {},
   "outputs": [
    {
     "data": {
      "text/plain": [
       "count    506.000000\n",
       "mean      10.476581\n",
       "std       15.436941\n",
       "min        0.000000\n",
       "25%        0.000000\n",
       "50%        0.000000\n",
       "75%       18.100000\n",
       "max       45.250000\n",
       "Name: ZN, dtype: float64"
      ]
     },
     "execution_count": 151,
     "metadata": {},
     "output_type": "execute_result"
    }
   ],
   "source": [
    "dataset['ZN'].describe()"
   ]
  },
  {
   "cell_type": "code",
   "execution_count": 152,
   "id": "33119440",
   "metadata": {},
   "outputs": [
    {
     "data": {
      "text/plain": [
       "<seaborn.axisgrid.FacetGrid at 0x2139dfef940>"
      ]
     },
     "execution_count": 152,
     "metadata": {},
     "output_type": "execute_result"
    },
    {
     "data": {
      "image/png": "[encoded data removed]",
      "text/plain": [
       "<Figure size 500x500 with 1 Axes>"
      ]
     },
     "metadata": {},
     "output_type": "display_data"
    }
   ],
   "source": [
    "sns.set_style('whitegrid')\n",
    "sns.displot(dataset['INDUS'], kde = False, color ='red', bins = 30)"
   ]
  },
  {
   "cell_type": "code",
   "execution_count": 153,
   "id": "ca5c4a2e",
   "metadata": {},
   "outputs": [
    {
     "name": "stdout",
     "output_type": "stream",
     "text": [
      "IQR:  14.660000000000002\n",
      "lower bound:  -18.55\n",
      "upper bound:  40.09\n"
     ]
    }
   ],
   "source": [
    "lower_bound,upper_bound=cal_IQR_Upper_lower_bound(\"INDUS\",1.5)"
   ]
  },
  {
   "cell_type": "code",
   "execution_count": 154,
   "id": "98124a33",
   "metadata": {},
   "outputs": [],
   "source": [
    "dataset.loc[dataset['INDUS']> upper_bound,'INDUS']=upper_bound"
   ]
  },
  {
   "cell_type": "code",
   "execution_count": 155,
   "id": "d5310873",
   "metadata": {},
   "outputs": [
    {
     "data": {
      "text/plain": [
       "count    506.000000\n",
       "mean       9.205158\n",
       "std        7.169630\n",
       "min        0.000000\n",
       "25%        3.440000\n",
       "50%        6.960000\n",
       "75%       18.100000\n",
       "max       27.740000\n",
       "Name: INDUS, dtype: float64"
      ]
     },
     "execution_count": 155,
     "metadata": {},
     "output_type": "execute_result"
    }
   ],
   "source": [
    "dataset['INDUS'].describe()"
   ]
  },
  {
   "cell_type": "code",
   "execution_count": 156,
   "id": "76a6ca31",
   "metadata": {},
   "outputs": [
    {
     "data": {
      "text/plain": [
       "<seaborn.axisgrid.FacetGrid at 0x213a2588df0>"
      ]
     },
     "execution_count": 156,
     "metadata": {},
     "output_type": "execute_result"
    },
    {
     "data": {
      "image/png": "[encoded data removed]",
      "text/plain": [
       "<Figure size 500x500 with 1 Axes>"
      ]
     },
     "metadata": {},
     "output_type": "display_data"
    }
   ],
   "source": [
    "sns.set_style('whitegrid')\n",
    "sns.displot(dataset['CHAS'], kde = False, color ='red', bins = 30)"
   ]
  },
  {
   "cell_type": "code",
   "execution_count": 171,
   "id": "6f4b2416",
   "metadata": {
    "scrolled": true
   },
   "outputs": [
    {
     "ename": "KeyError",
     "evalue": "'CHAS'",
     "output_type": "error",
     "traceback": [
      "\u001b[1;31m---------------------------------------------------------------------------\u001b[0m",
      "\u001b[1;31mKeyError\u001b[0m                                  Traceback (most recent call last)",
      "File \u001b[1;32m~\\anaconda3\\lib\\site-packages\\pandas\\core\\indexes\\base.py:3361\u001b[0m, in \u001b[0;36mIndex.get_loc\u001b[1;34m(self, key, method, tolerance)\u001b[0m\n\u001b[0;32m   3360\u001b[0m \u001b[38;5;28;01mtry\u001b[39;00m:\n\u001b[1;32m-> 3361\u001b[0m     \u001b[38;5;28;01mreturn\u001b[39;00m \u001b[38;5;28;43mself\u001b[39;49m\u001b[38;5;241;43m.\u001b[39;49m\u001b[43m_engine\u001b[49m\u001b[38;5;241;43m.\u001b[39;49m\u001b[43mget_loc\u001b[49m\u001b[43m(\u001b[49m\u001b[43mcasted_key\u001b[49m\u001b[43m)\u001b[49m\n\u001b[0;32m   3362\u001b[0m \u001b[38;5;28;01mexcept\u001b[39;00m \u001b[38;5;167;01mKeyError\u001b[39;00m \u001b[38;5;28;01mas\u001b[39;00m err:\n",
      "File \u001b[1;32m~\\anaconda3\\lib\\site-packages\\pandas\\_libs\\index.pyx:76\u001b[0m, in \u001b[0;36mpandas._libs.index.IndexEngine.get_loc\u001b[1;34m()\u001b[0m\n",
      "File \u001b[1;32m~\\anaconda3\\lib\\site-packages\\pandas\\_libs\\index.pyx:108\u001b[0m, in \u001b[0;36mpandas._libs.index.IndexEngine.get_loc\u001b[1;34m()\u001b[0m\n",
      "File \u001b[1;32mpandas\\_libs\\hashtable_class_helper.pxi:5198\u001b[0m, in \u001b[0;36mpandas._libs.hashtable.PyObjectHashTable.get_item\u001b[1;34m()\u001b[0m\n",
      "File \u001b[1;32mpandas\\_libs\\hashtable_class_helper.pxi:5206\u001b[0m, in \u001b[0;36mpandas._libs.hashtable.PyObjectHashTable.get_item\u001b[1;34m()\u001b[0m\n",
      "\u001b[1;31mKeyError\u001b[0m: 'CHAS'",
      "\nThe above exception was the direct cause of the following exception:\n",
      "\u001b[1;31mKeyError\u001b[0m                                  Traceback (most recent call last)",
      "Cell \u001b[1;32mIn[171], line 1\u001b[0m\n\u001b[1;32m----> 1\u001b[0m \u001b[43mdataset\u001b[49m\u001b[43m[\u001b[49m\u001b[38;5;124;43m'\u001b[39;49m\u001b[38;5;124;43mCHAS\u001b[39;49m\u001b[38;5;124;43m'\u001b[39;49m\u001b[43m]\u001b[49m\u001b[38;5;241m.\u001b[39mcount()\n",
      "File \u001b[1;32m~\\anaconda3\\lib\\site-packages\\pandas\\core\\frame.py:3458\u001b[0m, in \u001b[0;36mDataFrame.__getitem__\u001b[1;34m(self, key)\u001b[0m\n\u001b[0;32m   3456\u001b[0m \u001b[38;5;28;01mif\u001b[39;00m \u001b[38;5;28mself\u001b[39m\u001b[38;5;241m.\u001b[39mcolumns\u001b[38;5;241m.\u001b[39mnlevels \u001b[38;5;241m>\u001b[39m \u001b[38;5;241m1\u001b[39m:\n\u001b[0;32m   3457\u001b[0m     \u001b[38;5;28;01mreturn\u001b[39;00m \u001b[38;5;28mself\u001b[39m\u001b[38;5;241m.\u001b[39m_getitem_multilevel(key)\n\u001b[1;32m-> 3458\u001b[0m indexer \u001b[38;5;241m=\u001b[39m \u001b[38;5;28;43mself\u001b[39;49m\u001b[38;5;241;43m.\u001b[39;49m\u001b[43mcolumns\u001b[49m\u001b[38;5;241;43m.\u001b[39;49m\u001b[43mget_loc\u001b[49m\u001b[43m(\u001b[49m\u001b[43mkey\u001b[49m\u001b[43m)\u001b[49m\n\u001b[0;32m   3459\u001b[0m \u001b[38;5;28;01mif\u001b[39;00m is_integer(indexer):\n\u001b[0;32m   3460\u001b[0m     indexer \u001b[38;5;241m=\u001b[39m [indexer]\n",
      "File \u001b[1;32m~\\anaconda3\\lib\\site-packages\\pandas\\core\\indexes\\base.py:3363\u001b[0m, in \u001b[0;36mIndex.get_loc\u001b[1;34m(self, key, method, tolerance)\u001b[0m\n\u001b[0;32m   3361\u001b[0m         \u001b[38;5;28;01mreturn\u001b[39;00m \u001b[38;5;28mself\u001b[39m\u001b[38;5;241m.\u001b[39m_engine\u001b[38;5;241m.\u001b[39mget_loc(casted_key)\n\u001b[0;32m   3362\u001b[0m     \u001b[38;5;28;01mexcept\u001b[39;00m \u001b[38;5;167;01mKeyError\u001b[39;00m \u001b[38;5;28;01mas\u001b[39;00m err:\n\u001b[1;32m-> 3363\u001b[0m         \u001b[38;5;28;01mraise\u001b[39;00m \u001b[38;5;167;01mKeyError\u001b[39;00m(key) \u001b[38;5;28;01mfrom\u001b[39;00m \u001b[38;5;21;01merr\u001b[39;00m\n\u001b[0;32m   3365\u001b[0m \u001b[38;5;28;01mif\u001b[39;00m is_scalar(key) \u001b[38;5;129;01mand\u001b[39;00m isna(key) \u001b[38;5;129;01mand\u001b[39;00m \u001b[38;5;129;01mnot\u001b[39;00m \u001b[38;5;28mself\u001b[39m\u001b[38;5;241m.\u001b[39mhasnans:\n\u001b[0;32m   3366\u001b[0m     \u001b[38;5;28;01mraise\u001b[39;00m \u001b[38;5;167;01mKeyError\u001b[39;00m(key)\n",
      "\u001b[1;31mKeyError\u001b[0m: 'CHAS'"
     ]
    }
   ],
   "source": [
    "dataset['CHAS'].count()"
   ]
  },
  {
   "cell_type": "code",
   "execution_count": 163,
   "id": "c03b4fe7",
   "metadata": {},
   "outputs": [],
   "source": [
    "dataset.drop(['CHAS'], axis=1, inplace=True)"
   ]
  },
  {
   "cell_type": "code",
   "execution_count": 164,
   "id": "87a7f4ce",
   "metadata": {},
   "outputs": [
    {
     "data": {
      "text/html": [
       "<div>\n",
       "<style scoped>\n",
       "    .dataframe tbody tr th:only-of-type {\n",
       "        vertical-align: middle;\n",
       "    }\n",
       "\n",
       "    .dataframe tbody tr th {\n",
       "        vertical-align: top;\n",
       "    }\n",
       "\n",
       "    .dataframe thead th {\n",
       "        text-align: right;\n",
       "    }\n",
       "</style>\n",
       "<table border=\"1\" class=\"dataframe\">\n",
       "  <thead>\n",
       "    <tr style=\"text-align: right;\">\n",
       "      <th></th>\n",
       "      <th>CRIM</th>\n",
       "      <th>ZN</th>\n",
       "      <th>INDUS</th>\n",
       "      <th>NOX</th>\n",
       "      <th>RM</th>\n",
       "      <th>AGE</th>\n",
       "      <th>DIS</th>\n",
       "      <th>RAD</th>\n",
       "      <th>TAX</th>\n",
       "      <th>PTRATIO</th>\n",
       "      <th>B</th>\n",
       "      <th>LSTAT</th>\n",
       "      <th>PRICE</th>\n",
       "    </tr>\n",
       "  </thead>\n",
       "  <tbody>\n",
       "    <tr>\n",
       "      <th>0</th>\n",
       "      <td>0.00632</td>\n",
       "      <td>18.0</td>\n",
       "      <td>2.31</td>\n",
       "      <td>0.538</td>\n",
       "      <td>6.575</td>\n",
       "      <td>65.2</td>\n",
       "      <td>4.0900</td>\n",
       "      <td>1</td>\n",
       "      <td>296.0</td>\n",
       "      <td>15.3</td>\n",
       "      <td>396.90</td>\n",
       "      <td>4.98</td>\n",
       "      <td>24.0</td>\n",
       "    </tr>\n",
       "    <tr>\n",
       "      <th>1</th>\n",
       "      <td>0.02731</td>\n",
       "      <td>0.0</td>\n",
       "      <td>7.07</td>\n",
       "      <td>0.469</td>\n",
       "      <td>6.421</td>\n",
       "      <td>78.9</td>\n",
       "      <td>4.9671</td>\n",
       "      <td>2</td>\n",
       "      <td>242.0</td>\n",
       "      <td>17.8</td>\n",
       "      <td>396.90</td>\n",
       "      <td>9.14</td>\n",
       "      <td>21.6</td>\n",
       "    </tr>\n",
       "    <tr>\n",
       "      <th>2</th>\n",
       "      <td>0.02729</td>\n",
       "      <td>0.0</td>\n",
       "      <td>7.07</td>\n",
       "      <td>0.469</td>\n",
       "      <td>7.185</td>\n",
       "      <td>61.1</td>\n",
       "      <td>4.9671</td>\n",
       "      <td>2</td>\n",
       "      <td>242.0</td>\n",
       "      <td>17.8</td>\n",
       "      <td>392.83</td>\n",
       "      <td>4.03</td>\n",
       "      <td>34.7</td>\n",
       "    </tr>\n",
       "    <tr>\n",
       "      <th>3</th>\n",
       "      <td>0.03237</td>\n",
       "      <td>0.0</td>\n",
       "      <td>2.18</td>\n",
       "      <td>0.458</td>\n",
       "      <td>6.998</td>\n",
       "      <td>45.8</td>\n",
       "      <td>6.0622</td>\n",
       "      <td>3</td>\n",
       "      <td>222.0</td>\n",
       "      <td>18.7</td>\n",
       "      <td>394.63</td>\n",
       "      <td>2.94</td>\n",
       "      <td>33.4</td>\n",
       "    </tr>\n",
       "    <tr>\n",
       "      <th>4</th>\n",
       "      <td>0.06905</td>\n",
       "      <td>0.0</td>\n",
       "      <td>2.18</td>\n",
       "      <td>0.458</td>\n",
       "      <td>7.147</td>\n",
       "      <td>54.2</td>\n",
       "      <td>6.0622</td>\n",
       "      <td>3</td>\n",
       "      <td>222.0</td>\n",
       "      <td>18.7</td>\n",
       "      <td>396.90</td>\n",
       "      <td>5.33</td>\n",
       "      <td>36.2</td>\n",
       "    </tr>\n",
       "  </tbody>\n",
       "</table>\n",
       "</div>"
      ],
      "text/plain": [
       "      CRIM    ZN  INDUS    NOX     RM   AGE     DIS  RAD    TAX  PTRATIO  \\\n",
       "0  0.00632  18.0   2.31  0.538  6.575  65.2  4.0900    1  296.0     15.3   \n",
       "1  0.02731   0.0   7.07  0.469  6.421  78.9  4.9671    2  242.0     17.8   \n",
       "2  0.02729   0.0   7.07  0.469  7.185  61.1  4.9671    2  242.0     17.8   \n",
       "3  0.03237   0.0   2.18  0.458  6.998  45.8  6.0622    3  222.0     18.7   \n",
       "4  0.06905   0.0   2.18  0.458  7.147  54.2  6.0622    3  222.0     18.7   \n",
       "\n",
       "        B  LSTAT  PRICE  \n",
       "0  396.90   4.98   24.0  \n",
       "1  396.90   9.14   21.6  \n",
       "2  392.83   4.03   34.7  \n",
       "3  394.63   2.94   33.4  \n",
       "4  396.90   5.33   36.2  "
      ]
     },
     "execution_count": 164,
     "metadata": {},
     "output_type": "execute_result"
    }
   ],
   "source": [
    "dataset.head()"
   ]
  },
  {
   "cell_type": "code",
   "execution_count": 173,
   "id": "aaedb9d7",
   "metadata": {},
   "outputs": [
    {
     "data": {
      "text/plain": [
       "<seaborn.axisgrid.FacetGrid at 0x213a3ba7700>"
      ]
     },
     "execution_count": 173,
     "metadata": {},
     "output_type": "execute_result"
    },
    {
     "data": {
      "image/png": "[encoded data removed]",
      "text/plain": [
       "<Figure size 500x500 with 1 Axes>"
      ]
     },
     "metadata": {},
     "output_type": "display_data"
    }
   ],
   "source": [
    "sns.set_style('whitegrid')\n",
    "sns.displot(dataset['NOX'], kde = False, color ='red', bins = 30)"
   ]
  },
  {
   "cell_type": "code",
   "execution_count": 180,
   "id": "6e75dd0d",
   "metadata": {},
   "outputs": [
    {
     "name": "stdout",
     "output_type": "stream",
     "text": [
      "IQR:  0.198\n",
      "lower bound:  0.15199999999999997\n",
      "upper bound:  0.9440000000000001\n"
     ]
    }
   ],
   "source": [
    "lower_bound,upper_bound=cal_IQR_Upper_lower_bound(\"NOX\",1.5)"
   ]
  },
  {
   "cell_type": "code",
   "execution_count": null,
   "id": "2649eead",
   "metadata": {},
   "outputs": [],
   "source": []
  },
  {
   "cell_type": "code",
   "execution_count": 181,
   "id": "b603736c",
   "metadata": {},
   "outputs": [],
   "source": [
    "dataset.loc[dataset['NOX']> upper_bound,'NOX']=upper_bound"
   ]
  },
  {
   "cell_type": "code",
   "execution_count": 182,
   "id": "3c8971c5",
   "metadata": {},
   "outputs": [
    {
     "data": {
      "text/plain": [
       "count    506.000000\n",
       "mean       0.583843\n",
       "std        0.164609\n",
       "min        0.385000\n",
       "25%        0.449000\n",
       "50%        0.538000\n",
       "75%        0.647000\n",
       "max        0.944000\n",
       "Name: NOX, dtype: float64"
      ]
     },
     "execution_count": 182,
     "metadata": {},
     "output_type": "execute_result"
    }
   ],
   "source": [
    "dataset['NOX'].describe()"
   ]
  },
  {
   "cell_type": "code",
   "execution_count": 186,
   "id": "6cc58f13",
   "metadata": {},
   "outputs": [
    {
     "data": {
      "text/plain": [
       "<seaborn.axisgrid.FacetGrid at 0x2138aef0eb0>"
      ]
     },
     "execution_count": 186,
     "metadata": {},
     "output_type": "execute_result"
    },
    {
     "data": {
      "image/png": "[encoded data removed]",
      "text/plain": [
       "<Figure size 500x500 with 1 Axes>"
      ]
     },
     "metadata": {},
     "output_type": "display_data"
    }
   ],
   "source": [
    "sns.set_style('whitegrid')\n",
    "sns.displot(dataset['RM'], kde = False, color ='red', bins = 30)"
   ]
  },
  {
   "cell_type": "code",
   "execution_count": 189,
   "id": "d80b754f",
   "metadata": {},
   "outputs": [
    {
     "name": "stdout",
     "output_type": "stream",
     "text": [
      "IQR:  0.9874999999999998\n",
      "lower bound:  4.48025\n",
      "upper bound:  8.43025\n"
     ]
    }
   ],
   "source": [
    "lower_bound,upper_bound=cal_IQR_Upper_lower_bound(\"RM\",1.5)"
   ]
  },
  {
   "cell_type": "code",
   "execution_count": 190,
   "id": "1254d0f2",
   "metadata": {},
   "outputs": [],
   "source": [
    "dataset.loc[dataset['RM']> upper_bound,'RM']=upper_bound"
   ]
  },
  {
   "cell_type": "code",
   "execution_count": 191,
   "id": "bce526cf",
   "metadata": {},
   "outputs": [
    {
     "data": {
      "text/plain": [
       "count    506.000000\n",
       "mean       6.564416\n",
       "std        0.897590\n",
       "min        3.561000\n",
       "25%        5.961500\n",
       "50%        6.322500\n",
       "75%        6.949000\n",
       "max        8.430250\n",
       "Name: RM, dtype: float64"
      ]
     },
     "execution_count": 191,
     "metadata": {},
     "output_type": "execute_result"
    }
   ],
   "source": [
    "dataset['RM'].describe()"
   ]
  },
  {
   "cell_type": "code",
   "execution_count": 192,
   "id": "d7f33f3d",
   "metadata": {},
   "outputs": [
    {
     "data": {
      "text/plain": [
       "<seaborn.axisgrid.FacetGrid at 0x213a2899cd0>"
      ]
     },
     "execution_count": 192,
     "metadata": {},
     "output_type": "execute_result"
    },
    {
     "data": {
      "image/png": "[encoded data removed]",
      "text/plain": [
       "<Figure size 500x500 with 1 Axes>"
      ]
     },
     "metadata": {},
     "output_type": "display_data"
    }
   ],
   "source": [
    "sns.set_style('whitegrid')\n",
    "sns.displot(dataset['DIS'], kde = False, color ='red', bins = 30)"
   ]
  },
  {
   "cell_type": "code",
   "execution_count": 197,
   "id": "128ed6ca",
   "metadata": {},
   "outputs": [
    {
     "name": "stdout",
     "output_type": "stream",
     "text": [
      "IQR:  3.9014999999999995\n",
      "lower bound:  -3.4216749999999996\n",
      "upper bound:  12.184325\n"
     ]
    }
   ],
   "source": [
    "lower_bound,upper_bound=cal_IQR_Upper_lower_bound(\"DIS\",1.5)"
   ]
  },
  {
   "cell_type": "code",
   "execution_count": 194,
   "id": "4ffdca83",
   "metadata": {},
   "outputs": [],
   "source": [
    "dataset.loc[dataset['DIS']> upper_bound,'DIS']=upper_bound"
   ]
  },
  {
   "cell_type": "code",
   "execution_count": 195,
   "id": "be546ecb",
   "metadata": {},
   "outputs": [
    {
     "data": {
      "text/plain": [
       "count    506.000000\n",
       "mean       4.912347\n",
       "std        3.198919\n",
       "min        1.129600\n",
       "25%        2.430575\n",
       "50%        3.925850\n",
       "75%        6.332075\n",
       "max       12.184325\n",
       "Name: DIS, dtype: float64"
      ]
     },
     "execution_count": 195,
     "metadata": {},
     "output_type": "execute_result"
    }
   ],
   "source": [
    "dataset['DIS'].describe()"
   ]
  },
  {
   "cell_type": "code",
   "execution_count": 198,
   "id": "c19da2b8",
   "metadata": {},
   "outputs": [
    {
     "data": {
      "text/plain": [
       "<seaborn.axisgrid.FacetGrid at 0x213a271aaf0>"
      ]
     },
     "execution_count": 198,
     "metadata": {},
     "output_type": "execute_result"
    },
    {
     "data": {
      "image/png": "[encoded data removed]",
      "text/plain": [
       "<Figure size 500x500 with 1 Axes>"
      ]
     },
     "metadata": {},
     "output_type": "display_data"
    }
   ],
   "source": [
    "sns.set_style('whitegrid')\n",
    "sns.displot(dataset['RAD'], kde = False, color ='red', bins = 30)"
   ]
  },
  {
   "cell_type": "code",
   "execution_count": 199,
   "id": "7a778188",
   "metadata": {},
   "outputs": [
    {
     "name": "stdout",
     "output_type": "stream",
     "text": [
      "IQR:  20.0\n",
      "lower bound:  -26.0\n",
      "upper bound:  54.0\n"
     ]
    }
   ],
   "source": [
    "lower_bound,upper_bound=cal_IQR_Upper_lower_bound(\"RAD\",1.5)"
   ]
  },
  {
   "cell_type": "code",
   "execution_count": 200,
   "id": "53593d6a",
   "metadata": {},
   "outputs": [],
   "source": [
    "dataset.loc[dataset['RAD']> upper_bound,'RAD']=upper_bound"
   ]
  },
  {
   "cell_type": "code",
   "execution_count": 201,
   "id": "3f842554",
   "metadata": {},
   "outputs": [
    {
     "data": {
      "text/plain": [
       "count    506.000000\n",
       "mean      12.750988\n",
       "std       15.952940\n",
       "min        1.000000\n",
       "25%        4.000000\n",
       "50%        5.000000\n",
       "75%       24.000000\n",
       "max       54.000000\n",
       "Name: RAD, dtype: float64"
      ]
     },
     "execution_count": 201,
     "metadata": {},
     "output_type": "execute_result"
    }
   ],
   "source": [
    "dataset['RAD'].describe()"
   ]
  },
  {
   "cell_type": "code",
   "execution_count": 202,
   "id": "fc442478",
   "metadata": {},
   "outputs": [
    {
     "data": {
      "text/plain": [
       "<seaborn.axisgrid.FacetGrid at 0x2138b8ee610>"
      ]
     },
     "execution_count": 202,
     "metadata": {},
     "output_type": "execute_result"
    },
    {
     "data": {
      "image/png": "[encoded data removed]",
      "text/plain": [
       "<Figure size 500x500 with 1 Axes>"
      ]
     },
     "metadata": {},
     "output_type": "display_data"
    }
   ],
   "source": [
    "sns.set_style('whitegrid')\n",
    "sns.displot(dataset['TAX'], kde = False, color ='red', bins = 30)"
   ]
  },
  {
   "cell_type": "code",
   "execution_count": 206,
   "id": "bc8ce542",
   "metadata": {},
   "outputs": [
    {
     "name": "stdout",
     "output_type": "stream",
     "text": [
      "IQR:  149.0\n",
      "lower bound:  30.5\n",
      "upper bound:  626.5\n"
     ]
    }
   ],
   "source": [
    "lower_bound,upper_bound=cal_IQR_Upper_lower_bound(\"TAX\",1.5)"
   ]
  },
  {
   "cell_type": "code",
   "execution_count": 207,
   "id": "48e11729",
   "metadata": {},
   "outputs": [],
   "source": [
    "dataset.loc[dataset['TAX']< lower_bound,'TAX']=lower_bound\n",
    "dataset.loc[dataset['TAX']> upper_bound,'TAX']=upper_bound"
   ]
  },
  {
   "cell_type": "code",
   "execution_count": 208,
   "id": "5ff8dca7",
   "metadata": {},
   "outputs": [
    {
     "data": {
      "text/plain": [
       "count    506.000000\n",
       "mean     333.493083\n",
       "std      166.191678\n",
       "min       30.500000\n",
       "25%      254.000000\n",
       "50%      307.000000\n",
       "75%      403.000000\n",
       "max      626.500000\n",
       "Name: TAX, dtype: float64"
      ]
     },
     "execution_count": 208,
     "metadata": {},
     "output_type": "execute_result"
    }
   ],
   "source": [
    "dataset['TAX'].describe()"
   ]
  },
  {
   "cell_type": "code",
   "execution_count": 209,
   "id": "e3302a65",
   "metadata": {},
   "outputs": [
    {
     "data": {
      "text/plain": [
       "<seaborn.axisgrid.FacetGrid at 0x213a19d9880>"
      ]
     },
     "execution_count": 209,
     "metadata": {},
     "output_type": "execute_result"
    },
    {
     "data": {
      "image/png": "[encoded data removed]",
      "text/plain": [
       "<Figure size 500x500 with 1 Axes>"
      ]
     },
     "metadata": {},
     "output_type": "display_data"
    }
   ],
   "source": [
    "sns.set_style('whitegrid')\n",
    "sns.displot(dataset['PTRATIO'], kde = False, color ='red', bins = 30)"
   ]
  },
  {
   "cell_type": "code",
   "execution_count": 211,
   "id": "53913352",
   "metadata": {},
   "outputs": [
    {
     "name": "stdout",
     "output_type": "stream",
     "text": [
      "IQR:  3.1999999999999993\n",
      "lower bound:  7.400000000000002\n",
      "upper bound:  29.799999999999997\n"
     ]
    }
   ],
   "source": [
    "lower_bound,upper_bound=cal_IQR_Upper_lower_bound(\"PTRATIO\",3)"
   ]
  },
  {
   "cell_type": "code",
   "execution_count": 212,
   "id": "a5719907",
   "metadata": {},
   "outputs": [],
   "source": [
    "dataset.loc[dataset['PTRATIO']> upper_bound,'PTRATIO']=upper_bound"
   ]
  },
  {
   "cell_type": "code",
   "execution_count": 213,
   "id": "b9cb179e",
   "metadata": {},
   "outputs": [
    {
     "data": {
      "text/plain": [
       "count    506.000000\n",
       "mean      19.255968\n",
       "std        4.056539\n",
       "min        2.600000\n",
       "25%       17.000000\n",
       "50%       18.900000\n",
       "75%       20.200000\n",
       "max       29.800000\n",
       "Name: PTRATIO, dtype: float64"
      ]
     },
     "execution_count": 213,
     "metadata": {},
     "output_type": "execute_result"
    }
   ],
   "source": [
    "dataset['PTRATIO'].describe()"
   ]
  },
  {
   "cell_type": "code",
   "execution_count": 214,
   "id": "e3b02f99",
   "metadata": {},
   "outputs": [
    {
     "data": {
      "text/plain": [
       "<seaborn.axisgrid.FacetGrid at 0x213a2562d30>"
      ]
     },
     "execution_count": 214,
     "metadata": {},
     "output_type": "execute_result"
    },
    {
     "data": {
      "image/png": "[encoded data removed]",
      "text/plain": [
       "<Figure size 500x500 with 1 Axes>"
      ]
     },
     "metadata": {},
     "output_type": "display_data"
    }
   ],
   "source": [
    "sns.set_style('whitegrid')\n",
    "sns.displot(dataset['LSTAT'], kde = False, color ='red', bins = 30)"
   ]
  },
  {
   "cell_type": "code",
   "execution_count": 216,
   "id": "7eee04b5",
   "metadata": {},
   "outputs": [
    {
     "name": "stdout",
     "output_type": "stream",
     "text": [
      "IQR:  8.1375\n",
      "lower bound:  -5.3287499999999985\n",
      "upper bound:  27.221249999999998\n"
     ]
    }
   ],
   "source": [
    "lower_bound,upper_bound=cal_IQR_Upper_lower_bound(\"LSTAT\",1.5)"
   ]
  },
  {
   "cell_type": "code",
   "execution_count": 217,
   "id": "a61d6923",
   "metadata": {},
   "outputs": [],
   "source": [
    "dataset.loc[dataset['LSTAT']> upper_bound,'LSTAT']=upper_bound"
   ]
  },
  {
   "cell_type": "code",
   "execution_count": 218,
   "id": "6afe1dda",
   "metadata": {},
   "outputs": [
    {
     "data": {
      "text/plain": [
       "count    506.000000\n",
       "mean      11.481359\n",
       "std        5.899360\n",
       "min        1.730000\n",
       "25%        6.877500\n",
       "50%       10.380000\n",
       "75%       15.015000\n",
       "max       27.221250\n",
       "Name: LSTAT, dtype: float64"
      ]
     },
     "execution_count": 218,
     "metadata": {},
     "output_type": "execute_result"
    }
   ],
   "source": [
    "dataset['LSTAT'].describe()"
   ]
  },
  {
   "cell_type": "code",
   "execution_count": 219,
   "id": "d919fbea",
   "metadata": {},
   "outputs": [
    {
     "data": {
      "text/plain": [
       "<seaborn.axisgrid.FacetGrid at 0x2138c7b4df0>"
      ]
     },
     "execution_count": 219,
     "metadata": {},
     "output_type": "execute_result"
    },
    {
     "data": {
      "image/png": "[encoded data removed]",
      "text/plain": [
       "<Figure size 500x500 with 1 Axes>"
      ]
     },
     "metadata": {},
     "output_type": "display_data"
    }
   ],
   "source": [
    "sns.set_style('whitegrid')\n",
    "sns.displot(dataset['PRICE'], kde = False, color ='red', bins = 30)"
   ]
  },
  {
   "cell_type": "code",
   "execution_count": 221,
   "id": "8fb12c7c",
   "metadata": {},
   "outputs": [
    {
     "name": "stdout",
     "output_type": "stream",
     "text": [
      "IQR:  6.0\n",
      "lower bound:  1.0\n",
      "upper bound:  43.0\n"
     ]
    }
   ],
   "source": [
    "lower_bound,upper_bound=cal_IQR_Upper_lower_bound(\"PRICE\",3)"
   ]
  },
  {
   "cell_type": "code",
   "execution_count": 222,
   "id": "3c17cd07",
   "metadata": {},
   "outputs": [],
   "source": [
    "dataset.loc[dataset['PRICE']> upper_bound,'PRICE']=upper_bound"
   ]
  },
  {
   "cell_type": "code",
   "execution_count": 223,
   "id": "d05279e4",
   "metadata": {},
   "outputs": [
    {
     "data": {
      "text/plain": [
       "count    506.000000\n",
       "mean      23.277866\n",
       "std        7.536472\n",
       "min        6.300000\n",
       "25%       19.000000\n",
       "50%       21.950000\n",
       "75%       25.000000\n",
       "max       43.000000\n",
       "Name: PRICE, dtype: float64"
      ]
     },
     "execution_count": 223,
     "metadata": {},
     "output_type": "execute_result"
    }
   ],
   "source": [
    "dataset['PRICE'].describe()"
   ]
  },
  {
   "cell_type": "markdown",
   "id": "e6299d3d",
   "metadata": {},
   "source": [
    "## correlation"
   ]
  },
  {
   "cell_type": "code",
   "execution_count": 226,
   "id": "43637cac",
   "metadata": {},
   "outputs": [
    {
     "data": {
      "text/html": [
       "<div>\n",
       "<style scoped>\n",
       "    .dataframe tbody tr th:only-of-type {\n",
       "        vertical-align: middle;\n",
       "    }\n",
       "\n",
       "    .dataframe tbody tr th {\n",
       "        vertical-align: top;\n",
       "    }\n",
       "\n",
       "    .dataframe thead th {\n",
       "        text-align: right;\n",
       "    }\n",
       "</style>\n",
       "<table border=\"1\" class=\"dataframe\">\n",
       "  <thead>\n",
       "    <tr style=\"text-align: right;\">\n",
       "      <th></th>\n",
       "      <th>CRIM</th>\n",
       "      <th>ZN</th>\n",
       "      <th>INDUS</th>\n",
       "      <th>NOX</th>\n",
       "      <th>RM</th>\n",
       "      <th>AGE</th>\n",
       "      <th>DIS</th>\n",
       "      <th>RAD</th>\n",
       "      <th>TAX</th>\n",
       "      <th>PTRATIO</th>\n",
       "      <th>B</th>\n",
       "      <th>LSTAT</th>\n",
       "      <th>PRICE</th>\n",
       "    </tr>\n",
       "  </thead>\n",
       "  <tbody>\n",
       "    <tr>\n",
       "      <th>CRIM</th>\n",
       "      <td>1.000000</td>\n",
       "      <td>-0.407638</td>\n",
       "      <td>0.682411</td>\n",
       "      <td>0.305055</td>\n",
       "      <td>-0.296407</td>\n",
       "      <td>0.540754</td>\n",
       "      <td>-0.501744</td>\n",
       "      <td>0.174978</td>\n",
       "      <td>0.777960</td>\n",
       "      <td>-0.038693</td>\n",
       "      <td>-0.024529</td>\n",
       "      <td>0.403859</td>\n",
       "      <td>-0.296939</td>\n",
       "    </tr>\n",
       "    <tr>\n",
       "      <th>ZN</th>\n",
       "      <td>-0.407638</td>\n",
       "      <td>1.000000</td>\n",
       "      <td>-0.563148</td>\n",
       "      <td>-0.211302</td>\n",
       "      <td>0.343675</td>\n",
       "      <td>-0.558326</td>\n",
       "      <td>0.543785</td>\n",
       "      <td>0.028028</td>\n",
       "      <td>-0.341228</td>\n",
       "      <td>-0.076195</td>\n",
       "      <td>-0.058845</td>\n",
       "      <td>-0.409970</td>\n",
       "      <td>0.348579</td>\n",
       "    </tr>\n",
       "    <tr>\n",
       "      <th>INDUS</th>\n",
       "      <td>0.682411</td>\n",
       "      <td>-0.563148</td>\n",
       "      <td>1.000000</td>\n",
       "      <td>0.096067</td>\n",
       "      <td>-0.548924</td>\n",
       "      <td>0.700699</td>\n",
       "      <td>-0.719735</td>\n",
       "      <td>-0.191890</td>\n",
       "      <td>0.747131</td>\n",
       "      <td>-0.174218</td>\n",
       "      <td>0.233471</td>\n",
       "      <td>0.468972</td>\n",
       "      <td>-0.380444</td>\n",
       "    </tr>\n",
       "    <tr>\n",
       "      <th>NOX</th>\n",
       "      <td>0.305055</td>\n",
       "      <td>-0.211302</td>\n",
       "      <td>0.096067</td>\n",
       "      <td>1.000000</td>\n",
       "      <td>0.421984</td>\n",
       "      <td>-0.080194</td>\n",
       "      <td>0.294430</td>\n",
       "      <td>0.835615</td>\n",
       "      <td>-0.163314</td>\n",
       "      <td>0.579861</td>\n",
       "      <td>-0.768938</td>\n",
       "      <td>0.377824</td>\n",
       "      <td>-0.289047</td>\n",
       "    </tr>\n",
       "    <tr>\n",
       "      <th>RM</th>\n",
       "      <td>-0.296407</td>\n",
       "      <td>0.343675</td>\n",
       "      <td>-0.548924</td>\n",
       "      <td>0.421984</td>\n",
       "      <td>1.000000</td>\n",
       "      <td>-0.535717</td>\n",
       "      <td>0.627005</td>\n",
       "      <td>0.612624</td>\n",
       "      <td>-0.573210</td>\n",
       "      <td>0.398298</td>\n",
       "      <td>-0.576261</td>\n",
       "      <td>-0.371821</td>\n",
       "      <td>0.475243</td>\n",
       "    </tr>\n",
       "    <tr>\n",
       "      <th>AGE</th>\n",
       "      <td>0.540754</td>\n",
       "      <td>-0.558326</td>\n",
       "      <td>0.700699</td>\n",
       "      <td>-0.080194</td>\n",
       "      <td>-0.535717</td>\n",
       "      <td>1.000000</td>\n",
       "      <td>-0.825994</td>\n",
       "      <td>-0.404294</td>\n",
       "      <td>0.642904</td>\n",
       "      <td>-0.349970</td>\n",
       "      <td>0.417216</td>\n",
       "      <td>0.418269</td>\n",
       "      <td>-0.238254</td>\n",
       "    </tr>\n",
       "    <tr>\n",
       "      <th>DIS</th>\n",
       "      <td>-0.501744</td>\n",
       "      <td>0.543785</td>\n",
       "      <td>-0.719735</td>\n",
       "      <td>0.294430</td>\n",
       "      <td>0.627005</td>\n",
       "      <td>-0.825994</td>\n",
       "      <td>1.000000</td>\n",
       "      <td>0.596435</td>\n",
       "      <td>-0.708733</td>\n",
       "      <td>0.518278</td>\n",
       "      <td>-0.598277</td>\n",
       "      <td>-0.215460</td>\n",
       "      <td>0.060531</td>\n",
       "    </tr>\n",
       "    <tr>\n",
       "      <th>RAD</th>\n",
       "      <td>0.174978</td>\n",
       "      <td>0.028028</td>\n",
       "      <td>-0.191890</td>\n",
       "      <td>0.835615</td>\n",
       "      <td>0.612624</td>\n",
       "      <td>-0.404294</td>\n",
       "      <td>0.596435</td>\n",
       "      <td>1.000000</td>\n",
       "      <td>-0.264677</td>\n",
       "      <td>0.733065</td>\n",
       "      <td>-0.847081</td>\n",
       "      <td>0.181638</td>\n",
       "      <td>-0.166236</td>\n",
       "    </tr>\n",
       "    <tr>\n",
       "      <th>TAX</th>\n",
       "      <td>0.777960</td>\n",
       "      <td>-0.341228</td>\n",
       "      <td>0.747131</td>\n",
       "      <td>-0.163314</td>\n",
       "      <td>-0.573210</td>\n",
       "      <td>0.642904</td>\n",
       "      <td>-0.708733</td>\n",
       "      <td>-0.264677</td>\n",
       "      <td>1.000000</td>\n",
       "      <td>-0.304698</td>\n",
       "      <td>0.392117</td>\n",
       "      <td>0.280996</td>\n",
       "      <td>-0.261788</td>\n",
       "    </tr>\n",
       "    <tr>\n",
       "      <th>PTRATIO</th>\n",
       "      <td>-0.038693</td>\n",
       "      <td>-0.076195</td>\n",
       "      <td>-0.174218</td>\n",
       "      <td>0.579861</td>\n",
       "      <td>0.398298</td>\n",
       "      <td>-0.349970</td>\n",
       "      <td>0.518278</td>\n",
       "      <td>0.733065</td>\n",
       "      <td>-0.304698</td>\n",
       "      <td>1.000000</td>\n",
       "      <td>-0.638778</td>\n",
       "      <td>0.206519</td>\n",
       "      <td>-0.286827</td>\n",
       "    </tr>\n",
       "    <tr>\n",
       "      <th>B</th>\n",
       "      <td>-0.024529</td>\n",
       "      <td>-0.058845</td>\n",
       "      <td>0.233471</td>\n",
       "      <td>-0.768938</td>\n",
       "      <td>-0.576261</td>\n",
       "      <td>0.417216</td>\n",
       "      <td>-0.598277</td>\n",
       "      <td>-0.847081</td>\n",
       "      <td>0.392117</td>\n",
       "      <td>-0.638778</td>\n",
       "      <td>1.000000</td>\n",
       "      <td>-0.193127</td>\n",
       "      <td>0.199647</td>\n",
       "    </tr>\n",
       "    <tr>\n",
       "      <th>LSTAT</th>\n",
       "      <td>0.403859</td>\n",
       "      <td>-0.409970</td>\n",
       "      <td>0.468972</td>\n",
       "      <td>0.377824</td>\n",
       "      <td>-0.371821</td>\n",
       "      <td>0.418269</td>\n",
       "      <td>-0.215460</td>\n",
       "      <td>0.181638</td>\n",
       "      <td>0.280996</td>\n",
       "      <td>0.206519</td>\n",
       "      <td>-0.193127</td>\n",
       "      <td>1.000000</td>\n",
       "      <td>-0.715623</td>\n",
       "    </tr>\n",
       "    <tr>\n",
       "      <th>PRICE</th>\n",
       "      <td>-0.296939</td>\n",
       "      <td>0.348579</td>\n",
       "      <td>-0.380444</td>\n",
       "      <td>-0.289047</td>\n",
       "      <td>0.475243</td>\n",
       "      <td>-0.238254</td>\n",
       "      <td>0.060531</td>\n",
       "      <td>-0.166236</td>\n",
       "      <td>-0.261788</td>\n",
       "      <td>-0.286827</td>\n",
       "      <td>0.199647</td>\n",
       "      <td>-0.715623</td>\n",
       "      <td>1.000000</td>\n",
       "    </tr>\n",
       "  </tbody>\n",
       "</table>\n",
       "</div>"
      ],
      "text/plain": [
       "             CRIM        ZN     INDUS       NOX        RM       AGE       DIS  \\\n",
       "CRIM     1.000000 -0.407638  0.682411  0.305055 -0.296407  0.540754 -0.501744   \n",
       "ZN      -0.407638  1.000000 -0.563148 -0.211302  0.343675 -0.558326  0.543785   \n",
       "INDUS    0.682411 -0.563148  1.000000  0.096067 -0.548924  0.700699 -0.719735   \n",
       "NOX      0.305055 -0.211302  0.096067  1.000000  0.421984 -0.080194  0.294430   \n",
       "RM      -0.296407  0.343675 -0.548924  0.421984  1.000000 -0.535717  0.627005   \n",
       "AGE      0.540754 -0.558326  0.700699 -0.080194 -0.535717  1.000000 -0.825994   \n",
       "DIS     -0.501744  0.543785 -0.719735  0.294430  0.627005 -0.825994  1.000000   \n",
       "RAD      0.174978  0.028028 -0.191890  0.835615  0.612624 -0.404294  0.596435   \n",
       "TAX      0.777960 -0.341228  0.747131 -0.163314 -0.573210  0.642904 -0.708733   \n",
       "PTRATIO -0.038693 -0.076195 -0.174218  0.579861  0.398298 -0.349970  0.518278   \n",
       "B       -0.024529 -0.058845  0.233471 -0.768938 -0.576261  0.417216 -0.598277   \n",
       "LSTAT    0.403859 -0.409970  0.468972  0.377824 -0.371821  0.418269 -0.215460   \n",
       "PRICE   -0.296939  0.348579 -0.380444 -0.289047  0.475243 -0.238254  0.060531   \n",
       "\n",
       "              RAD       TAX   PTRATIO         B     LSTAT     PRICE  \n",
       "CRIM     0.174978  0.777960 -0.038693 -0.024529  0.403859 -0.296939  \n",
       "ZN       0.028028 -0.341228 -0.076195 -0.058845 -0.409970  0.348579  \n",
       "INDUS   -0.191890  0.747131 -0.174218  0.233471  0.468972 -0.380444  \n",
       "NOX      0.835615 -0.163314  0.579861 -0.768938  0.377824 -0.289047  \n",
       "RM       0.612624 -0.573210  0.398298 -0.576261 -0.371821  0.475243  \n",
       "AGE     -0.404294  0.642904 -0.349970  0.417216  0.418269 -0.238254  \n",
       "DIS      0.596435 -0.708733  0.518278 -0.598277 -0.215460  0.060531  \n",
       "RAD      1.000000 -0.264677  0.733065 -0.847081  0.181638 -0.166236  \n",
       "TAX     -0.264677  1.000000 -0.304698  0.392117  0.280996 -0.261788  \n",
       "PTRATIO  0.733065 -0.304698  1.000000 -0.638778  0.206519 -0.286827  \n",
       "B       -0.847081  0.392117 -0.638778  1.000000 -0.193127  0.199647  \n",
       "LSTAT    0.181638  0.280996  0.206519 -0.193127  1.000000 -0.715623  \n",
       "PRICE   -0.166236 -0.261788 -0.286827  0.199647 -0.715623  1.000000  "
      ]
     },
     "execution_count": 226,
     "metadata": {},
     "output_type": "execute_result"
    }
   ],
   "source": [
    "dataset.corr()"
   ]
  },
  {
   "cell_type": "code",
   "execution_count": 231,
   "id": "a16c964a",
   "metadata": {},
   "outputs": [],
   "source": [
    "columns_to_drop=['DIS','RAD','B']\n",
    "dataset.drop(columns_to_drop, axis=1, inplace=True)"
   ]
  },
  {
   "cell_type": "code",
   "execution_count": 232,
   "id": "fcd907d4",
   "metadata": {},
   "outputs": [
    {
     "data": {
      "text/html": [
       "<div>\n",
       "<style scoped>\n",
       "    .dataframe tbody tr th:only-of-type {\n",
       "        vertical-align: middle;\n",
       "    }\n",
       "\n",
       "    .dataframe tbody tr th {\n",
       "        vertical-align: top;\n",
       "    }\n",
       "\n",
       "    .dataframe thead th {\n",
       "        text-align: right;\n",
       "    }\n",
       "</style>\n",
       "<table border=\"1\" class=\"dataframe\">\n",
       "  <thead>\n",
       "    <tr style=\"text-align: right;\">\n",
       "      <th></th>\n",
       "      <th>CRIM</th>\n",
       "      <th>ZN</th>\n",
       "      <th>INDUS</th>\n",
       "      <th>NOX</th>\n",
       "      <th>RM</th>\n",
       "      <th>AGE</th>\n",
       "      <th>TAX</th>\n",
       "      <th>PTRATIO</th>\n",
       "      <th>LSTAT</th>\n",
       "      <th>PRICE</th>\n",
       "    </tr>\n",
       "  </thead>\n",
       "  <tbody>\n",
       "    <tr>\n",
       "      <th>0</th>\n",
       "      <td>0.00632</td>\n",
       "      <td>18.0</td>\n",
       "      <td>2.31</td>\n",
       "      <td>0.538</td>\n",
       "      <td>6.575</td>\n",
       "      <td>65.2</td>\n",
       "      <td>296.0</td>\n",
       "      <td>15.3</td>\n",
       "      <td>4.98</td>\n",
       "      <td>24.0</td>\n",
       "    </tr>\n",
       "    <tr>\n",
       "      <th>1</th>\n",
       "      <td>0.02731</td>\n",
       "      <td>0.0</td>\n",
       "      <td>7.07</td>\n",
       "      <td>0.469</td>\n",
       "      <td>6.421</td>\n",
       "      <td>78.9</td>\n",
       "      <td>242.0</td>\n",
       "      <td>17.8</td>\n",
       "      <td>9.14</td>\n",
       "      <td>21.6</td>\n",
       "    </tr>\n",
       "    <tr>\n",
       "      <th>2</th>\n",
       "      <td>0.02729</td>\n",
       "      <td>0.0</td>\n",
       "      <td>7.07</td>\n",
       "      <td>0.469</td>\n",
       "      <td>7.185</td>\n",
       "      <td>61.1</td>\n",
       "      <td>242.0</td>\n",
       "      <td>17.8</td>\n",
       "      <td>4.03</td>\n",
       "      <td>34.7</td>\n",
       "    </tr>\n",
       "    <tr>\n",
       "      <th>3</th>\n",
       "      <td>0.03237</td>\n",
       "      <td>0.0</td>\n",
       "      <td>2.18</td>\n",
       "      <td>0.458</td>\n",
       "      <td>6.998</td>\n",
       "      <td>45.8</td>\n",
       "      <td>222.0</td>\n",
       "      <td>18.7</td>\n",
       "      <td>2.94</td>\n",
       "      <td>33.4</td>\n",
       "    </tr>\n",
       "    <tr>\n",
       "      <th>4</th>\n",
       "      <td>0.06905</td>\n",
       "      <td>0.0</td>\n",
       "      <td>2.18</td>\n",
       "      <td>0.458</td>\n",
       "      <td>7.147</td>\n",
       "      <td>54.2</td>\n",
       "      <td>222.0</td>\n",
       "      <td>18.7</td>\n",
       "      <td>5.33</td>\n",
       "      <td>36.2</td>\n",
       "    </tr>\n",
       "  </tbody>\n",
       "</table>\n",
       "</div>"
      ],
      "text/plain": [
       "      CRIM    ZN  INDUS    NOX     RM   AGE    TAX  PTRATIO  LSTAT  PRICE\n",
       "0  0.00632  18.0   2.31  0.538  6.575  65.2  296.0     15.3   4.98   24.0\n",
       "1  0.02731   0.0   7.07  0.469  6.421  78.9  242.0     17.8   9.14   21.6\n",
       "2  0.02729   0.0   7.07  0.469  7.185  61.1  242.0     17.8   4.03   34.7\n",
       "3  0.03237   0.0   2.18  0.458  6.998  45.8  222.0     18.7   2.94   33.4\n",
       "4  0.06905   0.0   2.18  0.458  7.147  54.2  222.0     18.7   5.33   36.2"
      ]
     },
     "execution_count": 232,
     "metadata": {},
     "output_type": "execute_result"
    }
   ],
   "source": [
    "dataset.head()"
   ]
  },
  {
   "cell_type": "code",
   "execution_count": 235,
   "id": "0efd6aa4",
   "metadata": {},
   "outputs": [
    {
     "data": {
      "text/plain": [
       "<Axes: xlabel='RM', ylabel='PRICE'>"
      ]
     },
     "execution_count": 235,
     "metadata": {},
     "output_type": "execute_result"
    },
    {
     "data": {
      "image/png": "[encoded data removed]",
      "text/plain": [
       "<Figure size 640x480 with 1 Axes>"
      ]
     },
     "metadata": {},
     "output_type": "display_data"
    }
   ],
   "source": [
    "sns.regplot(x= \"RM\" , y= \"PRICE\" , data= dataset)"
   ]
  },
  {
   "cell_type": "code",
   "execution_count": 236,
   "id": "563671a7",
   "metadata": {},
   "outputs": [
    {
     "data": {
      "text/plain": [
       "<Axes: xlabel='LSTAT', ylabel='PRICE'>"
      ]
     },
     "execution_count": 236,
     "metadata": {},
     "output_type": "execute_result"
    },
    {
     "data": {
      "image/png": "[encoded data removed]",
      "text/plain": [
       "<Figure size 640x480 with 1 Axes>"
      ]
     },
     "metadata": {},
     "output_type": "display_data"
    }
   ],
   "source": [
    "sns.regplot(x= \"LSTAT\" , y= \"PRICE\" , data= dataset)"
   ]
  },
  {
   "cell_type": "code",
   "execution_count": 237,
   "id": "414817b2",
   "metadata": {},
   "outputs": [],
   "source": [
    "##Independent and dependent features\n",
    "\n",
    "X=dataset.iloc[:,:-1]\n",
    "Y=dataset.iloc[:,-1]"
   ]
  },
  {
   "cell_type": "code",
   "execution_count": 238,
   "id": "bbe64412",
   "metadata": {},
   "outputs": [
    {
     "data": {
      "text/html": [
       "<div>\n",
       "<style scoped>\n",
       "    .dataframe tbody tr th:only-of-type {\n",
       "        vertical-align: middle;\n",
       "    }\n",
       "\n",
       "    .dataframe tbody tr th {\n",
       "        vertical-align: top;\n",
       "    }\n",
       "\n",
       "    .dataframe thead th {\n",
       "        text-align: right;\n",
       "    }\n",
       "</style>\n",
       "<table border=\"1\" class=\"dataframe\">\n",
       "  <thead>\n",
       "    <tr style=\"text-align: right;\">\n",
       "      <th></th>\n",
       "      <th>CRIM</th>\n",
       "      <th>ZN</th>\n",
       "      <th>INDUS</th>\n",
       "      <th>NOX</th>\n",
       "      <th>RM</th>\n",
       "      <th>AGE</th>\n",
       "      <th>TAX</th>\n",
       "      <th>PTRATIO</th>\n",
       "      <th>LSTAT</th>\n",
       "    </tr>\n",
       "  </thead>\n",
       "  <tbody>\n",
       "    <tr>\n",
       "      <th>0</th>\n",
       "      <td>0.00632</td>\n",
       "      <td>18.0</td>\n",
       "      <td>2.31</td>\n",
       "      <td>0.538</td>\n",
       "      <td>6.575</td>\n",
       "      <td>65.2</td>\n",
       "      <td>296.0</td>\n",
       "      <td>15.3</td>\n",
       "      <td>4.98</td>\n",
       "    </tr>\n",
       "    <tr>\n",
       "      <th>1</th>\n",
       "      <td>0.02731</td>\n",
       "      <td>0.0</td>\n",
       "      <td>7.07</td>\n",
       "      <td>0.469</td>\n",
       "      <td>6.421</td>\n",
       "      <td>78.9</td>\n",
       "      <td>242.0</td>\n",
       "      <td>17.8</td>\n",
       "      <td>9.14</td>\n",
       "    </tr>\n",
       "    <tr>\n",
       "      <th>2</th>\n",
       "      <td>0.02729</td>\n",
       "      <td>0.0</td>\n",
       "      <td>7.07</td>\n",
       "      <td>0.469</td>\n",
       "      <td>7.185</td>\n",
       "      <td>61.1</td>\n",
       "      <td>242.0</td>\n",
       "      <td>17.8</td>\n",
       "      <td>4.03</td>\n",
       "    </tr>\n",
       "    <tr>\n",
       "      <th>3</th>\n",
       "      <td>0.03237</td>\n",
       "      <td>0.0</td>\n",
       "      <td>2.18</td>\n",
       "      <td>0.458</td>\n",
       "      <td>6.998</td>\n",
       "      <td>45.8</td>\n",
       "      <td>222.0</td>\n",
       "      <td>18.7</td>\n",
       "      <td>2.94</td>\n",
       "    </tr>\n",
       "    <tr>\n",
       "      <th>4</th>\n",
       "      <td>0.06905</td>\n",
       "      <td>0.0</td>\n",
       "      <td>2.18</td>\n",
       "      <td>0.458</td>\n",
       "      <td>7.147</td>\n",
       "      <td>54.2</td>\n",
       "      <td>222.0</td>\n",
       "      <td>18.7</td>\n",
       "      <td>5.33</td>\n",
       "    </tr>\n",
       "    <tr>\n",
       "      <th>...</th>\n",
       "      <td>...</td>\n",
       "      <td>...</td>\n",
       "      <td>...</td>\n",
       "      <td>...</td>\n",
       "      <td>...</td>\n",
       "      <td>...</td>\n",
       "      <td>...</td>\n",
       "      <td>...</td>\n",
       "      <td>...</td>\n",
       "    </tr>\n",
       "    <tr>\n",
       "      <th>501</th>\n",
       "      <td>0.06263</td>\n",
       "      <td>0.0</td>\n",
       "      <td>11.93</td>\n",
       "      <td>0.573</td>\n",
       "      <td>6.593</td>\n",
       "      <td>69.1</td>\n",
       "      <td>273.0</td>\n",
       "      <td>21.0</td>\n",
       "      <td>9.67</td>\n",
       "    </tr>\n",
       "    <tr>\n",
       "      <th>502</th>\n",
       "      <td>0.04527</td>\n",
       "      <td>0.0</td>\n",
       "      <td>11.93</td>\n",
       "      <td>0.573</td>\n",
       "      <td>6.120</td>\n",
       "      <td>76.7</td>\n",
       "      <td>273.0</td>\n",
       "      <td>21.0</td>\n",
       "      <td>9.08</td>\n",
       "    </tr>\n",
       "    <tr>\n",
       "      <th>503</th>\n",
       "      <td>0.06076</td>\n",
       "      <td>0.0</td>\n",
       "      <td>11.93</td>\n",
       "      <td>0.573</td>\n",
       "      <td>6.976</td>\n",
       "      <td>91.0</td>\n",
       "      <td>273.0</td>\n",
       "      <td>21.0</td>\n",
       "      <td>5.64</td>\n",
       "    </tr>\n",
       "    <tr>\n",
       "      <th>504</th>\n",
       "      <td>0.10959</td>\n",
       "      <td>0.0</td>\n",
       "      <td>11.93</td>\n",
       "      <td>0.573</td>\n",
       "      <td>6.794</td>\n",
       "      <td>89.3</td>\n",
       "      <td>273.0</td>\n",
       "      <td>21.0</td>\n",
       "      <td>6.48</td>\n",
       "    </tr>\n",
       "    <tr>\n",
       "      <th>505</th>\n",
       "      <td>0.04741</td>\n",
       "      <td>0.0</td>\n",
       "      <td>11.93</td>\n",
       "      <td>0.573</td>\n",
       "      <td>6.030</td>\n",
       "      <td>80.8</td>\n",
       "      <td>273.0</td>\n",
       "      <td>21.0</td>\n",
       "      <td>7.88</td>\n",
       "    </tr>\n",
       "  </tbody>\n",
       "</table>\n",
       "<p>506 rows × 9 columns</p>\n",
       "</div>"
      ],
      "text/plain": [
       "        CRIM    ZN  INDUS    NOX     RM   AGE    TAX  PTRATIO  LSTAT\n",
       "0    0.00632  18.0   2.31  0.538  6.575  65.2  296.0     15.3   4.98\n",
       "1    0.02731   0.0   7.07  0.469  6.421  78.9  242.0     17.8   9.14\n",
       "2    0.02729   0.0   7.07  0.469  7.185  61.1  242.0     17.8   4.03\n",
       "3    0.03237   0.0   2.18  0.458  6.998  45.8  222.0     18.7   2.94\n",
       "4    0.06905   0.0   2.18  0.458  7.147  54.2  222.0     18.7   5.33\n",
       "..       ...   ...    ...    ...    ...   ...    ...      ...    ...\n",
       "501  0.06263   0.0  11.93  0.573  6.593  69.1  273.0     21.0   9.67\n",
       "502  0.04527   0.0  11.93  0.573  6.120  76.7  273.0     21.0   9.08\n",
       "503  0.06076   0.0  11.93  0.573  6.976  91.0  273.0     21.0   5.64\n",
       "504  0.10959   0.0  11.93  0.573  6.794  89.3  273.0     21.0   6.48\n",
       "505  0.04741   0.0  11.93  0.573  6.030  80.8  273.0     21.0   7.88\n",
       "\n",
       "[506 rows x 9 columns]"
      ]
     },
     "execution_count": 238,
     "metadata": {},
     "output_type": "execute_result"
    }
   ],
   "source": [
    "X"
   ]
  },
  {
   "cell_type": "code",
   "execution_count": 239,
   "id": "e50759b0",
   "metadata": {},
   "outputs": [
    {
     "data": {
      "text/plain": [
       "0      24.0\n",
       "1      21.6\n",
       "2      34.7\n",
       "3      33.4\n",
       "4      36.2\n",
       "       ... \n",
       "501    22.4\n",
       "502    20.6\n",
       "503    23.9\n",
       "504    22.0\n",
       "505    11.9\n",
       "Name: PRICE, Length: 506, dtype: float64"
      ]
     },
     "execution_count": 239,
     "metadata": {},
     "output_type": "execute_result"
    }
   ],
   "source": [
    "Y"
   ]
  },
  {
   "cell_type": "code",
   "execution_count": 240,
   "id": "61de6edf",
   "metadata": {},
   "outputs": [],
   "source": [
    "## train test split\n",
    "\n",
    "\n",
    "from sklearn.model_selection import train_test_split\n",
    "X_train,X_test , y_train , y_test= train_test_split(X,Y ,test_size=0.3,random_state=42)"
   ]
  },
  {
   "cell_type": "code",
   "execution_count": 241,
   "id": "e13fbe00",
   "metadata": {},
   "outputs": [
    {
     "data": {
      "text/html": [
       "<div>\n",
       "<style scoped>\n",
       "    .dataframe tbody tr th:only-of-type {\n",
       "        vertical-align: middle;\n",
       "    }\n",
       "\n",
       "    .dataframe tbody tr th {\n",
       "        vertical-align: top;\n",
       "    }\n",
       "\n",
       "    .dataframe thead th {\n",
       "        text-align: right;\n",
       "    }\n",
       "</style>\n",
       "<table border=\"1\" class=\"dataframe\">\n",
       "  <thead>\n",
       "    <tr style=\"text-align: right;\">\n",
       "      <th></th>\n",
       "      <th>CRIM</th>\n",
       "      <th>ZN</th>\n",
       "      <th>INDUS</th>\n",
       "      <th>NOX</th>\n",
       "      <th>RM</th>\n",
       "      <th>AGE</th>\n",
       "      <th>TAX</th>\n",
       "      <th>PTRATIO</th>\n",
       "      <th>LSTAT</th>\n",
       "    </tr>\n",
       "  </thead>\n",
       "  <tbody>\n",
       "    <tr>\n",
       "      <th>5</th>\n",
       "      <td>0.02985</td>\n",
       "      <td>0.00</td>\n",
       "      <td>2.18</td>\n",
       "      <td>0.458</td>\n",
       "      <td>6.43000</td>\n",
       "      <td>58.7000</td>\n",
       "      <td>222.0</td>\n",
       "      <td>18.7</td>\n",
       "      <td>5.21</td>\n",
       "    </tr>\n",
       "    <tr>\n",
       "      <th>116</th>\n",
       "      <td>0.13158</td>\n",
       "      <td>0.00</td>\n",
       "      <td>10.01</td>\n",
       "      <td>0.547</td>\n",
       "      <td>6.17600</td>\n",
       "      <td>72.5000</td>\n",
       "      <td>432.0</td>\n",
       "      <td>17.8</td>\n",
       "      <td>12.04</td>\n",
       "    </tr>\n",
       "    <tr>\n",
       "      <th>45</th>\n",
       "      <td>0.17142</td>\n",
       "      <td>0.00</td>\n",
       "      <td>6.91</td>\n",
       "      <td>0.448</td>\n",
       "      <td>5.68200</td>\n",
       "      <td>33.8000</td>\n",
       "      <td>233.0</td>\n",
       "      <td>17.9</td>\n",
       "      <td>10.21</td>\n",
       "    </tr>\n",
       "    <tr>\n",
       "      <th>16</th>\n",
       "      <td>1.05393</td>\n",
       "      <td>0.00</td>\n",
       "      <td>8.14</td>\n",
       "      <td>0.538</td>\n",
       "      <td>5.93500</td>\n",
       "      <td>29.3000</td>\n",
       "      <td>307.0</td>\n",
       "      <td>21.0</td>\n",
       "      <td>6.58</td>\n",
       "    </tr>\n",
       "    <tr>\n",
       "      <th>468</th>\n",
       "      <td>0.00000</td>\n",
       "      <td>18.10</td>\n",
       "      <td>0.00</td>\n",
       "      <td>0.944</td>\n",
       "      <td>8.43025</td>\n",
       "      <td>2.9084</td>\n",
       "      <td>30.5</td>\n",
       "      <td>29.8</td>\n",
       "      <td>19.10</td>\n",
       "    </tr>\n",
       "    <tr>\n",
       "      <th>...</th>\n",
       "      <td>...</td>\n",
       "      <td>...</td>\n",
       "      <td>...</td>\n",
       "      <td>...</td>\n",
       "      <td>...</td>\n",
       "      <td>...</td>\n",
       "      <td>...</td>\n",
       "      <td>...</td>\n",
       "      <td>...</td>\n",
       "    </tr>\n",
       "    <tr>\n",
       "      <th>106</th>\n",
       "      <td>0.17120</td>\n",
       "      <td>0.00</td>\n",
       "      <td>8.56</td>\n",
       "      <td>0.520</td>\n",
       "      <td>5.83600</td>\n",
       "      <td>91.9000</td>\n",
       "      <td>384.0</td>\n",
       "      <td>20.9</td>\n",
       "      <td>18.66</td>\n",
       "    </tr>\n",
       "    <tr>\n",
       "      <th>270</th>\n",
       "      <td>0.29916</td>\n",
       "      <td>20.00</td>\n",
       "      <td>6.96</td>\n",
       "      <td>0.464</td>\n",
       "      <td>5.85600</td>\n",
       "      <td>42.1000</td>\n",
       "      <td>223.0</td>\n",
       "      <td>18.6</td>\n",
       "      <td>13.00</td>\n",
       "    </tr>\n",
       "    <tr>\n",
       "      <th>348</th>\n",
       "      <td>0.01501</td>\n",
       "      <td>45.25</td>\n",
       "      <td>2.01</td>\n",
       "      <td>0.435</td>\n",
       "      <td>6.63500</td>\n",
       "      <td>29.7000</td>\n",
       "      <td>280.0</td>\n",
       "      <td>17.0</td>\n",
       "      <td>5.99</td>\n",
       "    </tr>\n",
       "    <tr>\n",
       "      <th>435</th>\n",
       "      <td>0.00000</td>\n",
       "      <td>18.10</td>\n",
       "      <td>0.00</td>\n",
       "      <td>0.944</td>\n",
       "      <td>8.43025</td>\n",
       "      <td>2.1247</td>\n",
       "      <td>30.5</td>\n",
       "      <td>29.8</td>\n",
       "      <td>13.40</td>\n",
       "    </tr>\n",
       "    <tr>\n",
       "      <th>102</th>\n",
       "      <td>0.22876</td>\n",
       "      <td>0.00</td>\n",
       "      <td>8.56</td>\n",
       "      <td>0.520</td>\n",
       "      <td>6.40500</td>\n",
       "      <td>85.4000</td>\n",
       "      <td>384.0</td>\n",
       "      <td>20.9</td>\n",
       "      <td>10.63</td>\n",
       "    </tr>\n",
       "  </tbody>\n",
       "</table>\n",
       "<p>354 rows × 9 columns</p>\n",
       "</div>"
      ],
      "text/plain": [
       "        CRIM     ZN  INDUS    NOX       RM      AGE    TAX  PTRATIO  LSTAT\n",
       "5    0.02985   0.00   2.18  0.458  6.43000  58.7000  222.0     18.7   5.21\n",
       "116  0.13158   0.00  10.01  0.547  6.17600  72.5000  432.0     17.8  12.04\n",
       "45   0.17142   0.00   6.91  0.448  5.68200  33.8000  233.0     17.9  10.21\n",
       "16   1.05393   0.00   8.14  0.538  5.93500  29.3000  307.0     21.0   6.58\n",
       "468  0.00000  18.10   0.00  0.944  8.43025   2.9084   30.5     29.8  19.10\n",
       "..       ...    ...    ...    ...      ...      ...    ...      ...    ...\n",
       "106  0.17120   0.00   8.56  0.520  5.83600  91.9000  384.0     20.9  18.66\n",
       "270  0.29916  20.00   6.96  0.464  5.85600  42.1000  223.0     18.6  13.00\n",
       "348  0.01501  45.25   2.01  0.435  6.63500  29.7000  280.0     17.0   5.99\n",
       "435  0.00000  18.10   0.00  0.944  8.43025   2.1247   30.5     29.8  13.40\n",
       "102  0.22876   0.00   8.56  0.520  6.40500  85.4000  384.0     20.9  10.63\n",
       "\n",
       "[354 rows x 9 columns]"
      ]
     },
     "execution_count": 241,
     "metadata": {},
     "output_type": "execute_result"
    }
   ],
   "source": [
    "X_train"
   ]
  },
  {
   "cell_type": "code",
   "execution_count": 242,
   "id": "c474b7f4",
   "metadata": {},
   "outputs": [
    {
     "data": {
      "text/html": [
       "<div>\n",
       "<style scoped>\n",
       "    .dataframe tbody tr th:only-of-type {\n",
       "        vertical-align: middle;\n",
       "    }\n",
       "\n",
       "    .dataframe tbody tr th {\n",
       "        vertical-align: top;\n",
       "    }\n",
       "\n",
       "    .dataframe thead th {\n",
       "        text-align: right;\n",
       "    }\n",
       "</style>\n",
       "<table border=\"1\" class=\"dataframe\">\n",
       "  <thead>\n",
       "    <tr style=\"text-align: right;\">\n",
       "      <th></th>\n",
       "      <th>CRIM</th>\n",
       "      <th>ZN</th>\n",
       "      <th>INDUS</th>\n",
       "      <th>NOX</th>\n",
       "      <th>RM</th>\n",
       "      <th>AGE</th>\n",
       "      <th>TAX</th>\n",
       "      <th>PTRATIO</th>\n",
       "      <th>LSTAT</th>\n",
       "    </tr>\n",
       "  </thead>\n",
       "  <tbody>\n",
       "    <tr>\n",
       "      <th>173</th>\n",
       "      <td>0.091780</td>\n",
       "      <td>0.0</td>\n",
       "      <td>4.05</td>\n",
       "      <td>0.510</td>\n",
       "      <td>6.41600</td>\n",
       "      <td>84.1</td>\n",
       "      <td>296.0</td>\n",
       "      <td>16.6</td>\n",
       "      <td>9.04</td>\n",
       "    </tr>\n",
       "    <tr>\n",
       "      <th>274</th>\n",
       "      <td>0.056440</td>\n",
       "      <td>40.0</td>\n",
       "      <td>6.41</td>\n",
       "      <td>0.447</td>\n",
       "      <td>6.75800</td>\n",
       "      <td>32.9</td>\n",
       "      <td>254.0</td>\n",
       "      <td>17.6</td>\n",
       "      <td>3.53</td>\n",
       "    </tr>\n",
       "    <tr>\n",
       "      <th>491</th>\n",
       "      <td>0.105740</td>\n",
       "      <td>0.0</td>\n",
       "      <td>27.74</td>\n",
       "      <td>0.609</td>\n",
       "      <td>5.98300</td>\n",
       "      <td>98.8</td>\n",
       "      <td>626.5</td>\n",
       "      <td>20.1</td>\n",
       "      <td>18.07</td>\n",
       "    </tr>\n",
       "    <tr>\n",
       "      <th>72</th>\n",
       "      <td>0.091640</td>\n",
       "      <td>0.0</td>\n",
       "      <td>10.81</td>\n",
       "      <td>0.413</td>\n",
       "      <td>6.06500</td>\n",
       "      <td>7.8</td>\n",
       "      <td>305.0</td>\n",
       "      <td>19.2</td>\n",
       "      <td>5.52</td>\n",
       "    </tr>\n",
       "    <tr>\n",
       "      <th>452</th>\n",
       "      <td>3.130163</td>\n",
       "      <td>0.0</td>\n",
       "      <td>18.10</td>\n",
       "      <td>0.713</td>\n",
       "      <td>6.29700</td>\n",
       "      <td>91.8</td>\n",
       "      <td>626.5</td>\n",
       "      <td>20.2</td>\n",
       "      <td>17.27</td>\n",
       "    </tr>\n",
       "    <tr>\n",
       "      <th>...</th>\n",
       "      <td>...</td>\n",
       "      <td>...</td>\n",
       "      <td>...</td>\n",
       "      <td>...</td>\n",
       "      <td>...</td>\n",
       "      <td>...</td>\n",
       "      <td>...</td>\n",
       "      <td>...</td>\n",
       "      <td>...</td>\n",
       "    </tr>\n",
       "    <tr>\n",
       "      <th>441</th>\n",
       "      <td>3.130163</td>\n",
       "      <td>0.0</td>\n",
       "      <td>18.10</td>\n",
       "      <td>0.740</td>\n",
       "      <td>6.40600</td>\n",
       "      <td>97.2</td>\n",
       "      <td>626.5</td>\n",
       "      <td>20.2</td>\n",
       "      <td>19.52</td>\n",
       "    </tr>\n",
       "    <tr>\n",
       "      <th>23</th>\n",
       "      <td>0.988430</td>\n",
       "      <td>0.0</td>\n",
       "      <td>8.14</td>\n",
       "      <td>0.538</td>\n",
       "      <td>5.81300</td>\n",
       "      <td>100.0</td>\n",
       "      <td>307.0</td>\n",
       "      <td>21.0</td>\n",
       "      <td>19.88</td>\n",
       "    </tr>\n",
       "    <tr>\n",
       "      <th>225</th>\n",
       "      <td>0.526930</td>\n",
       "      <td>0.0</td>\n",
       "      <td>6.20</td>\n",
       "      <td>0.504</td>\n",
       "      <td>8.43025</td>\n",
       "      <td>83.0</td>\n",
       "      <td>307.0</td>\n",
       "      <td>17.4</td>\n",
       "      <td>4.63</td>\n",
       "    </tr>\n",
       "    <tr>\n",
       "      <th>433</th>\n",
       "      <td>3.130163</td>\n",
       "      <td>0.0</td>\n",
       "      <td>18.10</td>\n",
       "      <td>0.713</td>\n",
       "      <td>6.43600</td>\n",
       "      <td>87.9</td>\n",
       "      <td>626.5</td>\n",
       "      <td>20.2</td>\n",
       "      <td>16.22</td>\n",
       "    </tr>\n",
       "    <tr>\n",
       "      <th>447</th>\n",
       "      <td>3.130163</td>\n",
       "      <td>0.0</td>\n",
       "      <td>18.10</td>\n",
       "      <td>0.740</td>\n",
       "      <td>6.25100</td>\n",
       "      <td>96.6</td>\n",
       "      <td>626.5</td>\n",
       "      <td>20.2</td>\n",
       "      <td>16.44</td>\n",
       "    </tr>\n",
       "  </tbody>\n",
       "</table>\n",
       "<p>152 rows × 9 columns</p>\n",
       "</div>"
      ],
      "text/plain": [
       "         CRIM    ZN  INDUS    NOX       RM    AGE    TAX  PTRATIO  LSTAT\n",
       "173  0.091780   0.0   4.05  0.510  6.41600   84.1  296.0     16.6   9.04\n",
       "274  0.056440  40.0   6.41  0.447  6.75800   32.9  254.0     17.6   3.53\n",
       "491  0.105740   0.0  27.74  0.609  5.98300   98.8  626.5     20.1  18.07\n",
       "72   0.091640   0.0  10.81  0.413  6.06500    7.8  305.0     19.2   5.52\n",
       "452  3.130163   0.0  18.10  0.713  6.29700   91.8  626.5     20.2  17.27\n",
       "..        ...   ...    ...    ...      ...    ...    ...      ...    ...\n",
       "441  3.130163   0.0  18.10  0.740  6.40600   97.2  626.5     20.2  19.52\n",
       "23   0.988430   0.0   8.14  0.538  5.81300  100.0  307.0     21.0  19.88\n",
       "225  0.526930   0.0   6.20  0.504  8.43025   83.0  307.0     17.4   4.63\n",
       "433  3.130163   0.0  18.10  0.713  6.43600   87.9  626.5     20.2  16.22\n",
       "447  3.130163   0.0  18.10  0.740  6.25100   96.6  626.5     20.2  16.44\n",
       "\n",
       "[152 rows x 9 columns]"
      ]
     },
     "execution_count": 242,
     "metadata": {},
     "output_type": "execute_result"
    }
   ],
   "source": [
    "X_test"
   ]
  },
  {
   "cell_type": "markdown",
   "id": "ed8f892d",
   "metadata": {},
   "source": [
    "## Standardizing the dataset \n"
   ]
  },
  {
   "cell_type": "code",
   "execution_count": 243,
   "id": "ffea13de",
   "metadata": {},
   "outputs": [],
   "source": [
    "from sklearn.preprocessing import StandardScaler\n",
    "scaler= StandardScaler()"
   ]
  },
  {
   "cell_type": "code",
   "execution_count": 244,
   "id": "f25913d4",
   "metadata": {},
   "outputs": [],
   "source": [
    "X_train=scaler.fit_transform(X_train)"
   ]
  },
  {
   "cell_type": "code",
   "execution_count": 245,
   "id": "f7b15744",
   "metadata": {},
   "outputs": [],
   "source": [
    "X_test=scaler.transform(X_test)"
   ]
  },
  {
   "cell_type": "markdown",
   "id": "d94130fa",
   "metadata": {},
   "source": [
    "# model training\n"
   ]
  },
  {
   "cell_type": "code",
   "execution_count": 247,
   "id": "ee52e89e",
   "metadata": {},
   "outputs": [],
   "source": [
    "from sklearn.linear_model import LinearRegression"
   ]
  },
  {
   "cell_type": "code",
   "execution_count": 248,
   "id": "2cd100e3",
   "metadata": {},
   "outputs": [],
   "source": [
    "regression = LinearRegression()"
   ]
  },
  {
   "cell_type": "code",
   "execution_count": 249,
   "id": "d3969937",
   "metadata": {},
   "outputs": [
    {
     "data": {
      "text/html": [
       "<style>#sk-container-id-1 {color: black;background-color: white;}#sk-container-id-1 pre{padding: 0;}#sk-container-id-1 div.sk-toggleable {background-color: white;}#sk-container-id-1 label.sk-toggleable__label {cursor: pointer;display: block;width: 100%;margin-bottom: 0;padding: 0.3em;box-sizing: border-box;text-align: center;}#sk-container-id-1 label.sk-toggleable__label-arrow:before {content: \"▸\";float: left;margin-right: 0.25em;color: #696969;}#sk-container-id-1 label.sk-toggleable__label-arrow:hover:before {color: black;}#sk-container-id-1 div.sk-estimator:hover label.sk-toggleable__label-arrow:before {color: black;}#sk-container-id-1 div.sk-toggleable__content {max-height: 0;max-width: 0;overflow: hidden;text-align: left;background-color: #f0f8ff;}#sk-container-id-1 div.sk-toggleable__content pre {margin: 0.2em;color: black;border-radius: 0.25em;background-color: #f0f8ff;}#sk-container-id-1 input.sk-toggleable__control:checked~div.sk-toggleable__content {max-height: 200px;max-width: 100%;overflow: auto;}#sk-container-id-1 input.sk-toggleable__control:checked~label.sk-toggleable__label-arrow:before {content: \"▾\";}#sk-container-id-1 div.sk-estimator input.sk-toggleable__control:checked~label.sk-toggleable__label {background-color: #d4ebff;}#sk-container-id-1 div.sk-label input.sk-toggleable__control:checked~label.sk-toggleable__label {background-color: #d4ebff;}#sk-container-id-1 input.sk-hidden--visually {border: 0;clip: rect(1px 1px 1px 1px);clip: rect(1px, 1px, 1px, 1px);height: 1px;margin: -1px;overflow: hidden;padding: 0;position: absolute;width: 1px;}#sk-container-id-1 div.sk-estimator {font-family: monospace;background-color: #f0f8ff;border: 1px dotted black;border-radius: 0.25em;box-sizing: border-box;margin-bottom: 0.5em;}#sk-container-id-1 div.sk-estimator:hover {background-color: #d4ebff;}#sk-container-id-1 div.sk-parallel-item::after {content: \"\";width: 100%;border-bottom: 1px solid gray;flex-grow: 1;}#sk-container-id-1 div.sk-label:hover label.sk-toggleable__label {background-color: #d4ebff;}#sk-container-id-1 div.sk-serial::before {content: \"\";position: absolute;border-left: 1px solid gray;box-sizing: border-box;top: 0;bottom: 0;left: 50%;z-index: 0;}#sk-container-id-1 div.sk-serial {display: flex;flex-direction: column;align-items: center;background-color: white;padding-right: 0.2em;padding-left: 0.2em;position: relative;}#sk-container-id-1 div.sk-item {position: relative;z-index: 1;}#sk-container-id-1 div.sk-parallel {display: flex;align-items: stretch;justify-content: center;background-color: white;position: relative;}#sk-container-id-1 div.sk-item::before, #sk-container-id-1 div.sk-parallel-item::before {content: \"\";position: absolute;border-left: 1px solid gray;box-sizing: border-box;top: 0;bottom: 0;left: 50%;z-index: -1;}#sk-container-id-1 div.sk-parallel-item {display: flex;flex-direction: column;z-index: 1;position: relative;background-color: white;}#sk-container-id-1 div.sk-parallel-item:first-child::after {align-self: flex-end;width: 50%;}#sk-container-id-1 div.sk-parallel-item:last-child::after {align-self: flex-start;width: 50%;}#sk-container-id-1 div.sk-parallel-item:only-child::after {width: 0;}#sk-container-id-1 div.sk-dashed-wrapped {border: 1px dashed gray;margin: 0 0.4em 0.5em 0.4em;box-sizing: border-box;padding-bottom: 0.4em;background-color: white;}#sk-container-id-1 div.sk-label label {font-family: monospace;font-weight: bold;display: inline-block;line-height: 1.2em;}#sk-container-id-1 div.sk-label-container {text-align: center;}#sk-container-id-1 div.sk-container {/* jupyter's `normalize.less` sets `[hidden] { display: none; }` but bootstrap.min.css set `[hidden] { display: none !important; }` so we also need the `!important` here to be able to override the default hidden behavior on the sphinx rendered scikit-learn.org. See: https://github.com/scikit-learn/scikit-learn/issues/21755 */display: inline-block !important;position: relative;}#sk-container-id-1 div.sk-text-repr-fallback {display: none;}</style><div id=\"sk-container-id-1\" class=\"sk-top-container\"><div class=\"sk-text-repr-fallback\"><pre>LinearRegression()</pre><b>In a Jupyter environment, please rerun this cell to show the HTML representation or trust the notebook. <br />On GitHub, the HTML representation is unable to render, please try loading this page with nbviewer.org.</b></div><div class=\"sk-container\" hidden><div class=\"sk-item\"><div class=\"sk-estimator sk-toggleable\"><input class=\"sk-toggleable__control sk-hidden--visually\" id=\"sk-estimator-id-1\" type=\"checkbox\" checked><label for=\"sk-estimator-id-1\" class=\"sk-toggleable__label sk-toggleable__label-arrow\">LinearRegression</label><div class=\"sk-toggleable__content\"><pre>LinearRegression()</pre></div></div></div></div></div>"
      ],
      "text/plain": [
       "LinearRegression()"
      ]
     },
     "execution_count": 249,
     "metadata": {},
     "output_type": "execute_result"
    }
   ],
   "source": [
    "regression.fit(X_train,y_train)"
   ]
  },
  {
   "cell_type": "code",
   "execution_count": 251,
   "id": "9d07bef0",
   "metadata": {},
   "outputs": [],
   "source": [
    "import pickle \n",
    "pickle.dump(scaler,open('scaling.pkl','wb'))"
   ]
  },
  {
   "cell_type": "markdown",
   "id": "c69ce857",
   "metadata": {},
   "source": [
    "## print the coefficients and intercept\n"
   ]
  },
  {
   "cell_type": "code",
   "execution_count": 252,
   "id": "7c6795cc",
   "metadata": {},
   "outputs": [
    {
     "name": "stdout",
     "output_type": "stream",
     "text": [
      "[ 1.03208133 -0.0829312   0.79395681 -2.33239225  4.70869792  0.62355654\n",
      " -1.10442184 -1.99498903 -3.18960576]\n"
     ]
    }
   ],
   "source": [
    "print(regression.coef_)"
   ]
  },
  {
   "cell_type": "code",
   "execution_count": 253,
   "id": "596f60fc",
   "metadata": {},
   "outputs": [
    {
     "name": "stdout",
     "output_type": "stream",
     "text": [
      "23.697033898305087\n"
     ]
    }
   ],
   "source": [
    "print(regression.intercept_)"
   ]
  },
  {
   "cell_type": "markdown",
   "id": "e8ea6f73",
   "metadata": {},
   "source": [
    "## prediction on test data\n"
   ]
  },
  {
   "cell_type": "code",
   "execution_count": 254,
   "id": "5e9f3c10",
   "metadata": {},
   "outputs": [],
   "source": [
    "reg_pred = regression.predict(X_test)"
   ]
  },
  {
   "cell_type": "markdown",
   "id": "7b7d234f",
   "metadata": {},
   "source": [
    "## plot scatter-plot for prediction\n"
   ]
  },
  {
   "cell_type": "code",
   "execution_count": 255,
   "id": "50e909b0",
   "metadata": {},
   "outputs": [
    {
     "data": {
      "text/plain": [
       "<matplotlib.collections.PathCollection at 0x2139ac93d00>"
      ]
     },
     "execution_count": 255,
     "metadata": {},
     "output_type": "execute_result"
    },
    {
     "data": {
      "image/png": "[encoded data removed]",
      "text/plain": [
       "<Figure size 640x480 with 1 Axes>"
      ]
     },
     "metadata": {},
     "output_type": "display_data"
    }
   ],
   "source": [
    "plt.scatter(y_test, reg_pred)"
   ]
  },
  {
   "cell_type": "code",
   "execution_count": 93,
   "id": "3fb78d31",
   "metadata": {},
   "outputs": [
    {
     "data": {
      "text/plain": [
       "173    -5.048960\n",
       "274    -4.095014\n",
       "491    -1.811193\n",
       "72     -2.603213\n",
       "452    -2.755280\n",
       "         ...    \n",
       "441    -0.303672\n",
       "23      1.114059\n",
       "225    10.016575\n",
       "433    -2.382863\n",
       "447    -5.685618\n",
       "Name: Price, Length: 152, dtype: float64"
      ]
     },
     "execution_count": 93,
     "metadata": {},
     "output_type": "execute_result"
    }
   ],
   "source": [
    "##residual\n",
    "residual = y_test-reg_pred\n",
    "residual"
   ]
  },
  {
   "cell_type": "code",
   "execution_count": null,
   "id": "8460c579",
   "metadata": {},
   "outputs": [],
   "source": [
    "##plot graph for residual\n",
    "sns.displot(residual, kind='kde')"
   ]
  },
  {
   "cell_type": "code",
   "execution_count": 96,
   "id": "e605a49e",
   "metadata": {},
   "outputs": [
    {
     "name": "stdout",
     "output_type": "stream",
     "text": [
      "3.162709871457406\n",
      "21.517444231177212\n",
      "4.638689926172821\n"
     ]
    }
   ],
   "source": [
    "from sklearn.metrics import mean_squared_error\n",
    "from sklearn.metrics import mean_absolute_error\n",
    "\n",
    "print(mean_absolute_error(y_test, reg_pred))\n",
    "print(mean_squared_error(y_test, reg_pred))\n",
    "## root mean squared error\n",
    "print(np.sqrt(mean_squared_error(y_test, reg_pred)))"
   ]
  },
  {
   "cell_type": "markdown",
   "id": "0ba87407",
   "metadata": {},
   "source": [
    "# Pickling the model file for deployment"
   ]
  },
  {
   "cell_type": "code",
   "execution_count": 260,
   "id": "37f6b977",
   "metadata": {},
   "outputs": [],
   "source": [
    "pickle.dump(regression,open('regmodel.pkl','wb'))"
   ]
  }
 ],
 "metadata": {
  "kernelspec": {
   "display_name": "Python 3 (ipykernel)",
   "language": "python",
   "name": "python3"
  },
  "language_info": {
   "codemirror_mode": {
    "name": "ipython",
    "version": 3
   },
   "file_extension": ".py",
   "mimetype": "text/x-python",
   "name": "python",
   "nbconvert_exporter": "python",
   "pygments_lexer": "ipython3",
   "version": "3.9.7"
  },
  "vscode": {
   "interpreter": {
    "hash": "143a49c294275192d32aa501e4d152f54345f7e2d8ce7c157c1cd6f51f973698"
   }
  }
 },
 "nbformat": 4,
 "nbformat_minor": 5
}
